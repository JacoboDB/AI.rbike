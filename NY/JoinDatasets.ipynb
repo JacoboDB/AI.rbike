{
  "cells": [
    {
      "cell_type": "code",
      "source": [
        "import pandas as pd\n",
        "import numpy as np\n",
        "import math\n",
        "import glob"
      ],
      "outputs": [],
      "execution_count": 3,
      "metadata": {}
    },
    {
      "cell_type": "code",
      "source": [
        "path = r'airbike-dataset'\n",
        "all_csv = glob.glob(path + \"/*.csv\")\n",
        "li = []\n",
        "for filename in all_csv:\n",
        "    df = pd.read_csv(filename, index_col=None, header=0)\n",
        "    li.append(df)\n",
        "df = pd.concat(li, axis=0, ignore_index=True)\n",
        "df.head()"
      ],
      "outputs": [
        {
          "output_type": "execute_result",
          "execution_count": 4,
          "data": {
            "text/html": [
              "<div>\n",
              "<style scoped>\n",
              "    .dataframe tbody tr th:only-of-type {\n",
              "        vertical-align: middle;\n",
              "    }\n",
              "\n",
              "    .dataframe tbody tr th {\n",
              "        vertical-align: top;\n",
              "    }\n",
              "\n",
              "    .dataframe thead th {\n",
              "        text-align: right;\n",
              "    }\n",
              "</style>\n",
              "<table border=\"1\" class=\"dataframe\">\n",
              "  <thead>\n",
              "    <tr style=\"text-align: right;\">\n",
              "      <th></th>\n",
              "      <th>hour</th>\n",
              "      <th>startstationid</th>\n",
              "      <th>trips</th>\n",
              "      <th>tripdistance</th>\n",
              "      <th>tripduration</th>\n",
              "      <th>starttime</th>\n",
              "      <th>o3</th>\n",
              "    </tr>\n",
              "  </thead>\n",
              "  <tbody>\n",
              "    <tr>\n",
              "      <td>0</td>\n",
              "      <td>0</td>\n",
              "      <td>3131</td>\n",
              "      <td>4</td>\n",
              "      <td>4.0282</td>\n",
              "      <td>663</td>\n",
              "      <td>2019-01-03 00:00:00</td>\n",
              "      <td>0.014000</td>\n",
              "    </tr>\n",
              "    <tr>\n",
              "      <td>1</td>\n",
              "      <td>0</td>\n",
              "      <td>3135</td>\n",
              "      <td>1</td>\n",
              "      <td>0.8481</td>\n",
              "      <td>130</td>\n",
              "      <td>2019-01-26 00:00:00</td>\n",
              "      <td>0.027000</td>\n",
              "    </tr>\n",
              "    <tr>\n",
              "      <td>2</td>\n",
              "      <td>0</td>\n",
              "      <td>3137</td>\n",
              "      <td>5</td>\n",
              "      <td>13.6826</td>\n",
              "      <td>3465</td>\n",
              "      <td>2019-01-01 00:00:00</td>\n",
              "      <td>0.014800</td>\n",
              "    </tr>\n",
              "    <tr>\n",
              "      <td>3</td>\n",
              "      <td>0</td>\n",
              "      <td>3139</td>\n",
              "      <td>1</td>\n",
              "      <td>0.5601</td>\n",
              "      <td>187</td>\n",
              "      <td>2019-01-27 00:00:00</td>\n",
              "      <td>0.013000</td>\n",
              "    </tr>\n",
              "    <tr>\n",
              "      <td>4</td>\n",
              "      <td>0</td>\n",
              "      <td>3140</td>\n",
              "      <td>8</td>\n",
              "      <td>16.5086</td>\n",
              "      <td>7130</td>\n",
              "      <td>2019-01-01 00:00:00</td>\n",
              "      <td>0.017625</td>\n",
              "    </tr>\n",
              "  </tbody>\n",
              "</table>\n",
              "</div>"
            ],
            "text/plain": [
              "   hour  startstationid  trips  tripdistance  tripduration  \\\n",
              "0     0            3131      4        4.0282           663   \n",
              "1     0            3135      1        0.8481           130   \n",
              "2     0            3137      5       13.6826          3465   \n",
              "3     0            3139      1        0.5601           187   \n",
              "4     0            3140      8       16.5086          7130   \n",
              "\n",
              "             starttime        o3  \n",
              "0  2019-01-03 00:00:00  0.014000  \n",
              "1  2019-01-26 00:00:00  0.027000  \n",
              "2  2019-01-01 00:00:00  0.014800  \n",
              "3  2019-01-27 00:00:00  0.013000  \n",
              "4  2019-01-01 00:00:00  0.017625  "
            ]
          },
          "metadata": {}
        }
      ],
      "execution_count": 4,
      "metadata": {}
    },
    {
      "cell_type": "code",
      "source": [
        "df.info()"
      ],
      "outputs": [
        {
          "output_type": "stream",
          "name": "stdout",
          "text": [
            "<class 'pandas.core.frame.DataFrame'>\n",
            "RangeIndex: 33877 entries, 0 to 33876\n",
            "Data columns (total 7 columns):\n",
            "hour              33877 non-null int64\n",
            "startstationid    33877 non-null int64\n",
            "trips             33877 non-null int64\n",
            "tripdistance      33877 non-null float64\n",
            "tripduration      33877 non-null int64\n",
            "starttime         33877 non-null object\n",
            "o3                33877 non-null float64\n",
            "dtypes: float64(2), int64(4), object(1)\n",
            "memory usage: 1.7+ MB\n"
          ]
        }
      ],
      "execution_count": 5,
      "metadata": {
        "scrolled": true
      }
    },
    {
      "cell_type": "code",
      "source": [
        "df.shape"
      ],
      "outputs": [
        {
          "output_type": "execute_result",
          "execution_count": 6,
          "data": {
            "text/plain": [
              "(33877, 7)"
            ]
          },
          "metadata": {}
        }
      ],
      "execution_count": 6,
      "metadata": {}
    },
    {
      "cell_type": "code",
      "source": [
        "df.to_csv(r'\\airbike-dataset\\airbike-ny-2019.csv')"
      ],
      "outputs": [],
      "execution_count": 14,
      "metadata": {}
    }
  ],
  "metadata": {
    "kernelspec": {
      "display_name": "Python 3",
      "language": "python",
      "name": "python3"
    },
    "language_info": {
      "codemirror_mode": {
        "name": "ipython",
        "version": 3
      },
      "file_extension": ".py",
      "mimetype": "text/x-python",
      "name": "python",
      "nbconvert_exporter": "python",
      "pygments_lexer": "ipython3",
      "version": "3.7.4"
    },
    "nteract": {
      "version": "0.23.3"
    }
  },
  "nbformat": 4,
  "nbformat_minor": 2
}