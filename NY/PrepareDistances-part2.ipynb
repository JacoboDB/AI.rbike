{
  "cells": [
    {
      "cell_type": "code",
      "source": [
        "import pandas as pd\n",
        "import numpy as np\n",
        "import matplotlib.pylab as plt\n",
        "import seaborn as sns\n",
        "import glob\n",
        "from datetime import date\n",
        "from datetime import datetime\n",
        "import math\n",
        "import requests\n",
        "from math import sin, cos, sqrt, atan2, radians"
      ],
      "outputs": [],
      "execution_count": 142,
      "metadata": {}
    },
    {
      "cell_type": "code",
      "source": [
        "month = '10'\n",
        "df = pd.read_csv(r'airbike\\2019'+month+'.csv')\n",
        "df = df[['tripduration', 'starttime', 'startstationid', 'startstationlatitude',\n",
        "       'startstationlongitude', 'endstationid', 'endstationlatitude',\n",
        "       'endstationlongitude', 'aqstation', 'aqdistance', 'o3']]\n",
        "df = df[df['o3'] != '-']\n",
        "df.head()"
      ],
      "outputs": [
        {
          "output_type": "execute_result",
          "execution_count": 159,
          "data": {
            "text/html": "<div>\n<style scoped>\n    .dataframe tbody tr th:only-of-type {\n        vertical-align: middle;\n    }\n\n    .dataframe tbody tr th {\n        vertical-align: top;\n    }\n\n    .dataframe thead th {\n        text-align: right;\n    }\n</style>\n<table border=\"1\" class=\"dataframe\">\n  <thead>\n    <tr style=\"text-align: right;\">\n      <th></th>\n      <th>tripduration</th>\n      <th>starttime</th>\n      <th>startstationid</th>\n      <th>startstationlatitude</th>\n      <th>startstationlongitude</th>\n      <th>endstationid</th>\n      <th>endstationlatitude</th>\n      <th>endstationlongitude</th>\n      <th>aqstation</th>\n      <th>aqdistance</th>\n      <th>o3</th>\n    </tr>\n  </thead>\n  <tbody>\n    <tr>\n      <td>1</td>\n      <td>174</td>\n      <td>2019-10-01 00:00:00</td>\n      <td>3301</td>\n      <td>40.791956</td>\n      <td>-73.968087</td>\n      <td>3283</td>\n      <td>40.788221</td>\n      <td>-73.970416</td>\n      <td>CCNY</td>\n      <td>3.514977</td>\n      <td>0.022000000000000002</td>\n    </tr>\n    <tr>\n      <td>26</td>\n      <td>307</td>\n      <td>2019-10-01 00:00:00</td>\n      <td>3314</td>\n      <td>40.793770</td>\n      <td>-73.971888</td>\n      <td>3366</td>\n      <td>40.802117</td>\n      <td>-73.968181</td>\n      <td>CCNY</td>\n      <td>3.511314</td>\n      <td>0.022000000000000002</td>\n    </tr>\n    <tr>\n      <td>28</td>\n      <td>737</td>\n      <td>2019-10-01 00:00:00</td>\n      <td>3514</td>\n      <td>40.776700</td>\n      <td>-73.927631</td>\n      <td>3513</td>\n      <td>40.774645</td>\n      <td>-73.923706</td>\n      <td>Bronx - IS52</td>\n      <td>4.877662</td>\n      <td>0.022000000000000002</td>\n    </tr>\n    <tr>\n      <td>37</td>\n      <td>441</td>\n      <td>2019-10-01 00:00:00</td>\n      <td>3494</td>\n      <td>40.797911</td>\n      <td>-73.942300</td>\n      <td>3387</td>\n      <td>40.793434</td>\n      <td>-73.949450</td>\n      <td>CCNY</td>\n      <td>2.472288</td>\n      <td>0.022000000000000002</td>\n    </tr>\n    <tr>\n      <td>39</td>\n      <td>322</td>\n      <td>2019-10-01 00:00:00</td>\n      <td>3145</td>\n      <td>40.778627</td>\n      <td>-73.957721</td>\n      <td>3299</td>\n      <td>40.788130</td>\n      <td>-73.952060</td>\n      <td>CCNY</td>\n      <td>4.639821</td>\n      <td>0.022000000000000002</td>\n    </tr>\n  </tbody>\n</table>\n</div>",
            "text/plain": "    tripduration            starttime  startstationid  startstationlatitude  \\\n1            174  2019-10-01 00:00:00            3301             40.791956   \n26           307  2019-10-01 00:00:00            3314             40.793770   \n28           737  2019-10-01 00:00:00            3514             40.776700   \n37           441  2019-10-01 00:00:00            3494             40.797911   \n39           322  2019-10-01 00:00:00            3145             40.778627   \n\n    startstationlongitude  endstationid  endstationlatitude  \\\n1              -73.968087          3283           40.788221   \n26             -73.971888          3366           40.802117   \n28             -73.927631          3513           40.774645   \n37             -73.942300          3387           40.793434   \n39             -73.957721          3299           40.788130   \n\n    endstationlongitude     aqstation  aqdistance                    o3  \n1            -73.970416          CCNY    3.514977  0.022000000000000002  \n26           -73.968181          CCNY    3.511314  0.022000000000000002  \n28           -73.923706  Bronx - IS52    4.877662  0.022000000000000002  \n37           -73.949450          CCNY    2.472288  0.022000000000000002  \n39           -73.952060          CCNY    4.639821  0.022000000000000002  "
          },
          "metadata": {}
        }
      ],
      "execution_count": 159,
      "metadata": {}
    },
    {
      "cell_type": "code",
      "source": [
        "df.info()"
      ],
      "outputs": [
        {
          "output_type": "stream",
          "name": "stdout",
          "text": [
            "<class 'pandas.core.frame.DataFrame'>\n",
            "Int64Index: 270262 entries, 1 to 2092564\n",
            "Data columns (total 11 columns):\n",
            "tripduration             270262 non-null int64\n",
            "starttime                270262 non-null object\n",
            "startstationid           270262 non-null int64\n",
            "startstationlatitude     270262 non-null float64\n",
            "startstationlongitude    270262 non-null float64\n",
            "endstationid             270262 non-null int64\n",
            "endstationlatitude       270262 non-null float64\n",
            "endstationlongitude      270262 non-null float64\n",
            "aqstation                270262 non-null object\n",
            "aqdistance               270262 non-null float64\n",
            "o3                       270262 non-null object\n",
            "dtypes: float64(5), int64(3), object(3)\n",
            "memory usage: 21.7+ MB\n"
          ]
        }
      ],
      "execution_count": 160,
      "metadata": {
        "scrolled": true
      }
    },
    {
      "cell_type": "code",
      "source": [
        "df[df['o3'] != '-'].shape"
      ],
      "outputs": [
        {
          "output_type": "execute_result",
          "execution_count": 161,
          "data": {
            "text/plain": "(270262, 11)"
          },
          "metadata": {}
        }
      ],
      "execution_count": 161,
      "metadata": {}
    },
    {
      "cell_type": "code",
      "source": [
        "def merge_start_end_coords(lat1,lon1,lat2,lon2):\n",
        "    return f'{lat1},{lon1}|{lat2},{lon2}'\n",
        "df['coords'] = df.apply(lambda row: merge_start_end_coords(row['startstationlatitude'],row['startstationlongitude'],row['endstationlatitude'],row['endstationlongitude'],),axis = 1)\n",
        "df.head()"
      ],
      "outputs": [
        {
          "output_type": "execute_result",
          "execution_count": 162,
          "data": {
            "text/html": "<div>\n<style scoped>\n    .dataframe tbody tr th:only-of-type {\n        vertical-align: middle;\n    }\n\n    .dataframe tbody tr th {\n        vertical-align: top;\n    }\n\n    .dataframe thead th {\n        text-align: right;\n    }\n</style>\n<table border=\"1\" class=\"dataframe\">\n  <thead>\n    <tr style=\"text-align: right;\">\n      <th></th>\n      <th>tripduration</th>\n      <th>starttime</th>\n      <th>startstationid</th>\n      <th>startstationlatitude</th>\n      <th>startstationlongitude</th>\n      <th>endstationid</th>\n      <th>endstationlatitude</th>\n      <th>endstationlongitude</th>\n      <th>aqstation</th>\n      <th>aqdistance</th>\n      <th>o3</th>\n      <th>coords</th>\n    </tr>\n  </thead>\n  <tbody>\n    <tr>\n      <td>1</td>\n      <td>174</td>\n      <td>2019-10-01 00:00:00</td>\n      <td>3301</td>\n      <td>40.791956</td>\n      <td>-73.968087</td>\n      <td>3283</td>\n      <td>40.788221</td>\n      <td>-73.970416</td>\n      <td>CCNY</td>\n      <td>3.514977</td>\n      <td>0.022000000000000002</td>\n      <td>40.7919557,-73.968087|40.7882213,-73.97041561</td>\n    </tr>\n    <tr>\n      <td>26</td>\n      <td>307</td>\n      <td>2019-10-01 00:00:00</td>\n      <td>3314</td>\n      <td>40.793770</td>\n      <td>-73.971888</td>\n      <td>3366</td>\n      <td>40.802117</td>\n      <td>-73.968181</td>\n      <td>CCNY</td>\n      <td>3.511314</td>\n      <td>0.022000000000000002</td>\n      <td>40.7937704,-73.971888|40.8021174,-73.9681805305</td>\n    </tr>\n    <tr>\n      <td>28</td>\n      <td>737</td>\n      <td>2019-10-01 00:00:00</td>\n      <td>3514</td>\n      <td>40.776700</td>\n      <td>-73.927631</td>\n      <td>3513</td>\n      <td>40.774645</td>\n      <td>-73.923706</td>\n      <td>Bronx - IS52</td>\n      <td>4.877662</td>\n      <td>0.022000000000000002</td>\n      <td>40.7767,-73.927631|40.774645,-73.92370600000002</td>\n    </tr>\n    <tr>\n      <td>37</td>\n      <td>441</td>\n      <td>2019-10-01 00:00:00</td>\n      <td>3494</td>\n      <td>40.797911</td>\n      <td>-73.942300</td>\n      <td>3387</td>\n      <td>40.793434</td>\n      <td>-73.949450</td>\n      <td>CCNY</td>\n      <td>2.472288</td>\n      <td>0.022000000000000002</td>\n      <td>40.797911,-73.9423|40.79343370000001,-73.94945003</td>\n    </tr>\n    <tr>\n      <td>39</td>\n      <td>322</td>\n      <td>2019-10-01 00:00:00</td>\n      <td>3145</td>\n      <td>40.778627</td>\n      <td>-73.957721</td>\n      <td>3299</td>\n      <td>40.788130</td>\n      <td>-73.952060</td>\n      <td>CCNY</td>\n      <td>4.639821</td>\n      <td>0.022000000000000002</td>\n      <td>40.77862688,-73.95772073|40.78813,-73.95206</td>\n    </tr>\n  </tbody>\n</table>\n</div>",
            "text/plain": "    tripduration            starttime  startstationid  startstationlatitude  \\\n1            174  2019-10-01 00:00:00            3301             40.791956   \n26           307  2019-10-01 00:00:00            3314             40.793770   \n28           737  2019-10-01 00:00:00            3514             40.776700   \n37           441  2019-10-01 00:00:00            3494             40.797911   \n39           322  2019-10-01 00:00:00            3145             40.778627   \n\n    startstationlongitude  endstationid  endstationlatitude  \\\n1              -73.968087          3283           40.788221   \n26             -73.971888          3366           40.802117   \n28             -73.927631          3513           40.774645   \n37             -73.942300          3387           40.793434   \n39             -73.957721          3299           40.788130   \n\n    endstationlongitude     aqstation  aqdistance                    o3  \\\n1            -73.970416          CCNY    3.514977  0.022000000000000002   \n26           -73.968181          CCNY    3.511314  0.022000000000000002   \n28           -73.923706  Bronx - IS52    4.877662  0.022000000000000002   \n37           -73.949450          CCNY    2.472288  0.022000000000000002   \n39           -73.952060          CCNY    4.639821  0.022000000000000002   \n\n                                               coords  \n1       40.7919557,-73.968087|40.7882213,-73.97041561  \n26    40.7937704,-73.971888|40.8021174,-73.9681805305  \n28    40.7767,-73.927631|40.774645,-73.92370600000002  \n37  40.797911,-73.9423|40.79343370000001,-73.94945003  \n39        40.77862688,-73.95772073|40.78813,-73.95206  "
          },
          "metadata": {}
        }
      ],
      "execution_count": 162,
      "metadata": {}
    },
    {
      "cell_type": "code",
      "source": [
        "unique_trips = df['coords'].value_counts().rename_axis('coords').reset_index(name='counts')\n",
        "unique_trips.head()"
      ],
      "outputs": [
        {
          "output_type": "execute_result",
          "execution_count": 163,
          "data": {
            "text/html": "<div>\n<style scoped>\n    .dataframe tbody tr th:only-of-type {\n        vertical-align: middle;\n    }\n\n    .dataframe tbody tr th {\n        vertical-align: top;\n    }\n\n    .dataframe thead th {\n        text-align: right;\n    }\n</style>\n<table border=\"1\" class=\"dataframe\">\n  <thead>\n    <tr style=\"text-align: right;\">\n      <th></th>\n      <th>coords</th>\n      <th>counts</th>\n    </tr>\n  </thead>\n  <tbody>\n    <tr>\n      <td>0</td>\n      <td>40.77140426,-73.9535166|40.77314236,-73.95856158</td>\n      <td>375</td>\n    </tr>\n    <tr>\n      <td>1</td>\n      <td>40.77579376683666,-73.97620573639871|40.772828...</td>\n      <td>334</td>\n    </tr>\n    <tr>\n      <td>2</td>\n      <td>40.779668090073116,-73.98093044757842|40.78293...</td>\n      <td>310</td>\n    </tr>\n    <tr>\n      <td>3</td>\n      <td>40.7869946,-73.94164802|40.7839636,-73.9471672...</td>\n      <td>305</td>\n    </tr>\n    <tr>\n      <td>4</td>\n      <td>40.779668090073116,-73.98093044757842|40.78524...</td>\n      <td>299</td>\n    </tr>\n  </tbody>\n</table>\n</div>",
            "text/plain": "                                              coords  counts\n0   40.77140426,-73.9535166|40.77314236,-73.95856158     375\n1  40.77579376683666,-73.97620573639871|40.772828...     334\n2  40.779668090073116,-73.98093044757842|40.78293...     310\n3  40.7869946,-73.94164802|40.7839636,-73.9471672...     305\n4  40.779668090073116,-73.98093044757842|40.78524...     299"
          },
          "metadata": {}
        }
      ],
      "execution_count": 163,
      "metadata": {
        "scrolled": true
      }
    },
    {
      "cell_type": "code",
      "source": [
        "#u1 = unique_trips[20000:]\n",
        "#u1.shape"
      ],
      "outputs": [
        {
          "output_type": "execute_result",
          "execution_count": 6,
          "data": {
            "text/plain": "(3447, 2)"
          },
          "metadata": {}
        }
      ],
      "execution_count": 6,
      "metadata": {}
    },
    {
      "cell_type": "code",
      "source": [
        "def get_distance_map_api(lat1,long1, lat2, long2):\n",
        "  #key from https://developer.mapquest.com/documentation/samples/directions/v2/route/\n",
        "  r = requests.get('https://www.mapquestapi.com/directions/v2/route?key=lYrP4vF3Uk5zgTiGGuEzQGwGIVDGuy24&unit=k&from='+str(lat1)+'%2C'+str(long1)+'&to='+str(lat2)+'%2C'+str(long2)+'&outFormat=json&ambiguities=ignore&routeType=bicycle&doReverseGeocode=false&enhancedNarrative=false&avoidTimedConditions=true')\n",
        "  return r.json()['route']['distance']\n",
        "def get_distance(coords):\n",
        "    coords = coords.split('|')\n",
        "    startcoords = coords[0].split(',')\n",
        "    endcoords = coords[1].split(',')\n",
        "    return float(get_distance_map_api(startcoords[0],startcoords[1],endcoords[0], endcoords[1]))"
      ],
      "outputs": [],
      "execution_count": 7,
      "metadata": {}
    },
    {
      "cell_type": "code",
      "source": [
        "#u1['tripdistance'] = u1['coords'].apply(lambda x: get_distance(x))\n",
        "#u1.head()"
      ],
      "outputs": [
        {
          "output_type": "stream",
          "name": "stderr",
          "text": [
            "c:\\program files (x86)\\python37-32\\lib\\site-packages\\ipykernel_launcher.py:1: SettingWithCopyWarning: \n",
            "A value is trying to be set on a copy of a slice from a DataFrame.\n",
            "Try using .loc[row_indexer,col_indexer] = value instead\n",
            "\n",
            "See the caveats in the documentation: http://pandas.pydata.org/pandas-docs/stable/user_guide/indexing.html#returning-a-view-versus-a-copy\n",
            "  \"\"\"Entry point for launching an IPython kernel.\n"
          ]
        },
        {
          "output_type": "execute_result",
          "execution_count": 9,
          "data": {
            "text/html": "<div>\n<style scoped>\n    .dataframe tbody tr th:only-of-type {\n        vertical-align: middle;\n    }\n\n    .dataframe tbody tr th {\n        vertical-align: top;\n    }\n\n    .dataframe thead th {\n        text-align: right;\n    }\n</style>\n<table border=\"1\" class=\"dataframe\">\n  <thead>\n    <tr style=\"text-align: right;\">\n      <th></th>\n      <th>coords</th>\n      <th>counts</th>\n      <th>tripdistance</th>\n    </tr>\n  </thead>\n  <tbody>\n    <tr>\n      <td>20000</td>\n      <td>40.80083629999999,-73.9664492472|40.7805779901...</td>\n      <td>1</td>\n      <td>3.5583</td>\n    </tr>\n    <tr>\n      <td>20001</td>\n      <td>40.8006721,-73.9349|40.778301,-73.9488134</td>\n      <td>1</td>\n      <td>2.9467</td>\n    </tr>\n    <tr>\n      <td>20002</td>\n      <td>40.801694,-73.957145|40.72430527250332,-73.996...</td>\n      <td>1</td>\n      <td>10.7633</td>\n    </tr>\n    <tr>\n      <td>20003</td>\n      <td>40.7973721,-73.97041192|40.7728384,-73.94989233</td>\n      <td>1</td>\n      <td>4.2487</td>\n    </tr>\n    <tr>\n      <td>20004</td>\n      <td>40.7781314,-73.96069399|40.71850211,-73.98329859</td>\n      <td>1</td>\n      <td>9.3261</td>\n    </tr>\n  </tbody>\n</table>\n</div>",
            "text/plain": "                                                  coords  counts  tripdistance\n20000  40.80083629999999,-73.9664492472|40.7805779901...       1        3.5583\n20001          40.8006721,-73.9349|40.778301,-73.9488134       1        2.9467\n20002  40.801694,-73.957145|40.72430527250332,-73.996...       1       10.7633\n20003    40.7973721,-73.97041192|40.7728384,-73.94989233       1        4.2487\n20004   40.7781314,-73.96069399|40.71850211,-73.98329859       1        9.3261"
          },
          "metadata": {}
        }
      ],
      "execution_count": 9,
      "metadata": {
        "scrolled": true
      }
    },
    {
      "cell_type": "code",
      "source": [
        "#u1.tripdistance.value_counts()"
      ],
      "outputs": [
        {
          "output_type": "execute_result",
          "execution_count": 10,
          "data": {
            "text/plain": "0.0000    18\n4.3533     8\n3.3330     6\n3.6419     5\n2.9113     5\n          ..\n8.4555     1\n1.3116     1\n4.6880     1\n3.2074     1\n7.0682     1\nName: tripdistance, Length: 2524, dtype: int64"
          },
          "metadata": {}
        }
      ],
      "execution_count": 10,
      "metadata": {
        "scrolled": true
      }
    },
    {
      "cell_type": "code",
      "source": [
        "#u1.to_csv(r'C:\\Users\\Jacobo\\Desktop\\citibike2019\\coordsdistance\\coordsdistance3.csv')"
      ],
      "outputs": [],
      "execution_count": 11,
      "metadata": {}
    },
    {
      "cell_type": "code",
      "source": [
        "'''u1 = pd.read_csv(r'C:\\Users\\Jacobo\\Desktop\\citibike2019\\coordsdistance\\coordsdistance1.csv')\n",
        "u2 = pd.read_csv(r'C:\\Users\\Jacobo\\Desktop\\citibike2019\\coordsdistance\\coordsdistance2.csv')\n",
        "u3 = pd.read_csv(r'C:\\Users\\Jacobo\\Desktop\\citibike2019\\coordsdistance\\coordsdistance3.csv')\n",
        "unique_trips_distance = pd.concat([u1,u2,u3])\n",
        "unique_trips_distance.columns = ['index','coords','count','tripdistance']\n",
        "unique_trips_distance.head()\n",
        "'''\n"
      ],
      "outputs": [
        {
          "output_type": "error",
          "ename": "SyntaxError",
          "evalue": "(unicode error) 'unicodeescape' codec can't decode bytes in position 21-22: truncated \\UXXXXXXXX escape (<ipython-input-10-88b01e8ea0c9>, line 7)",
          "traceback": [
            "\u001b[1;36m  File \u001b[1;32m\"<ipython-input-10-88b01e8ea0c9>\"\u001b[1;36m, line \u001b[1;32m7\u001b[0m\n\u001b[1;33m    '''\u001b[0m\n\u001b[1;37m      ^\u001b[0m\n\u001b[1;31mSyntaxError\u001b[0m\u001b[1;31m:\u001b[0m (unicode error) 'unicodeescape' codec can't decode bytes in position 21-22: truncated \\UXXXXXXXX escape\n"
          ]
        }
      ],
      "execution_count": 10,
      "metadata": {
        "scrolled": false
      }
    },
    {
      "cell_type": "code",
      "source": [
        "unique_trips_distance = pd.read_csv(r'C:\\Users\\Jacobo\\Desktop\\citibike2019\\coordsdistance\\coordsdistance.csv')"
      ],
      "outputs": [],
      "execution_count": 164,
      "metadata": {}
    },
    {
      "cell_type": "code",
      "source": [
        "unique_trips_distance.shape"
      ],
      "outputs": [
        {
          "output_type": "execute_result",
          "execution_count": 165,
          "data": {
            "text/plain": "(68884, 12)"
          },
          "metadata": {}
        }
      ],
      "execution_count": 165,
      "metadata": {}
    },
    {
      "cell_type": "code",
      "source": [
        "unique_trips.shape"
      ],
      "outputs": [
        {
          "output_type": "execute_result",
          "execution_count": 166,
          "data": {
            "text/plain": "(32578, 2)"
          },
          "metadata": {}
        }
      ],
      "execution_count": 166,
      "metadata": {}
    },
    {
      "cell_type": "code",
      "source": [
        "def get_calculated_distance(coords):\n",
        "    cordsplit = coords.split('|')\n",
        "    if(cordsplit[0] == cordsplit[1]):\n",
        "        return 0.0\n",
        "    val = unique_trips_distance[unique_trips_distance['coords']==coords]\n",
        "    if (len(val) == 1):\n",
        "        return val.tripdistance.values[0]\n",
        "    else:\n",
        "        return None\n",
        "unique_trips['tripdistance'] = unique_trips.coords.apply(lambda x: get_calculated_distance(x))\n",
        "unique_trips.head()"
      ],
      "outputs": [
        {
          "output_type": "execute_result",
          "execution_count": 167,
          "data": {
            "text/html": "<div>\n<style scoped>\n    .dataframe tbody tr th:only-of-type {\n        vertical-align: middle;\n    }\n\n    .dataframe tbody tr th {\n        vertical-align: top;\n    }\n\n    .dataframe thead th {\n        text-align: right;\n    }\n</style>\n<table border=\"1\" class=\"dataframe\">\n  <thead>\n    <tr style=\"text-align: right;\">\n      <th></th>\n      <th>coords</th>\n      <th>counts</th>\n      <th>tripdistance</th>\n    </tr>\n  </thead>\n  <tbody>\n    <tr>\n      <td>0</td>\n      <td>40.77140426,-73.9535166|40.77314236,-73.95856158</td>\n      <td>375</td>\n      <td>0.5182</td>\n    </tr>\n    <tr>\n      <td>1</td>\n      <td>40.77579376683666,-73.97620573639871|40.772828...</td>\n      <td>334</td>\n      <td>1.6013</td>\n    </tr>\n    <tr>\n      <td>2</td>\n      <td>40.779668090073116,-73.98093044757842|40.78293...</td>\n      <td>310</td>\n      <td>0.4088</td>\n    </tr>\n    <tr>\n      <td>3</td>\n      <td>40.7869946,-73.94164802|40.7839636,-73.9471672...</td>\n      <td>305</td>\n      <td>0.9254</td>\n    </tr>\n    <tr>\n      <td>4</td>\n      <td>40.779668090073116,-73.98093044757842|40.78524...</td>\n      <td>299</td>\n      <td>0.7210</td>\n    </tr>\n  </tbody>\n</table>\n</div>",
            "text/plain": "                                              coords  counts  tripdistance\n0   40.77140426,-73.9535166|40.77314236,-73.95856158     375        0.5182\n1  40.77579376683666,-73.97620573639871|40.772828...     334        1.6013\n2  40.779668090073116,-73.98093044757842|40.78293...     310        0.4088\n3  40.7869946,-73.94164802|40.7839636,-73.9471672...     305        0.9254\n4  40.779668090073116,-73.98093044757842|40.78524...     299        0.7210"
          },
          "metadata": {}
        }
      ],
      "execution_count": 167,
      "metadata": {
        "scrolled": true
      }
    },
    {
      "cell_type": "code",
      "source": [
        "unique_trips.head()"
      ],
      "outputs": [
        {
          "output_type": "execute_result",
          "execution_count": 168,
          "data": {
            "text/html": "<div>\n<style scoped>\n    .dataframe tbody tr th:only-of-type {\n        vertical-align: middle;\n    }\n\n    .dataframe tbody tr th {\n        vertical-align: top;\n    }\n\n    .dataframe thead th {\n        text-align: right;\n    }\n</style>\n<table border=\"1\" class=\"dataframe\">\n  <thead>\n    <tr style=\"text-align: right;\">\n      <th></th>\n      <th>coords</th>\n      <th>counts</th>\n      <th>tripdistance</th>\n    </tr>\n  </thead>\n  <tbody>\n    <tr>\n      <td>0</td>\n      <td>40.77140426,-73.9535166|40.77314236,-73.95856158</td>\n      <td>375</td>\n      <td>0.5182</td>\n    </tr>\n    <tr>\n      <td>1</td>\n      <td>40.77579376683666,-73.97620573639871|40.772828...</td>\n      <td>334</td>\n      <td>1.6013</td>\n    </tr>\n    <tr>\n      <td>2</td>\n      <td>40.779668090073116,-73.98093044757842|40.78293...</td>\n      <td>310</td>\n      <td>0.4088</td>\n    </tr>\n    <tr>\n      <td>3</td>\n      <td>40.7869946,-73.94164802|40.7839636,-73.9471672...</td>\n      <td>305</td>\n      <td>0.9254</td>\n    </tr>\n    <tr>\n      <td>4</td>\n      <td>40.779668090073116,-73.98093044757842|40.78524...</td>\n      <td>299</td>\n      <td>0.7210</td>\n    </tr>\n  </tbody>\n</table>\n</div>",
            "text/plain": "                                              coords  counts  tripdistance\n0   40.77140426,-73.9535166|40.77314236,-73.95856158     375        0.5182\n1  40.77579376683666,-73.97620573639871|40.772828...     334        1.6013\n2  40.779668090073116,-73.98093044757842|40.78293...     310        0.4088\n3  40.7869946,-73.94164802|40.7839636,-73.9471672...     305        0.9254\n4  40.779668090073116,-73.98093044757842|40.78524...     299        0.7210"
          },
          "metadata": {}
        }
      ],
      "execution_count": 168,
      "metadata": {}
    },
    {
      "cell_type": "code",
      "source": [
        "no_distance= unique_trips[unique_trips['tripdistance'].isnull()]\n",
        "no_distance.shape"
      ],
      "outputs": [
        {
          "output_type": "execute_result",
          "execution_count": 169,
          "data": {
            "text/plain": "(3376, 3)"
          },
          "metadata": {}
        }
      ],
      "execution_count": 169,
      "metadata": {
        "scrolled": true
      }
    },
    {
      "cell_type": "code",
      "source": [
        "no_distance['tripdistance'] = no_distance['coords'].apply(lambda x: get_distance(x))"
      ],
      "outputs": [
        {
          "output_type": "stream",
          "name": "stderr",
          "text": [
            "c:\\program files (x86)\\python37-32\\lib\\site-packages\\ipykernel_launcher.py:1: SettingWithCopyWarning: \n",
            "A value is trying to be set on a copy of a slice from a DataFrame.\n",
            "Try using .loc[row_indexer,col_indexer] = value instead\n",
            "\n",
            "See the caveats in the documentation: http://pandas.pydata.org/pandas-docs/stable/user_guide/indexing.html#returning-a-view-versus-a-copy\n",
            "  \"\"\"Entry point for launching an IPython kernel.\n"
          ]
        }
      ],
      "execution_count": 170,
      "metadata": {}
    },
    {
      "cell_type": "code",
      "source": [
        "no_distance.info()"
      ],
      "outputs": [
        {
          "output_type": "stream",
          "name": "stdout",
          "text": [
            "<class 'pandas.core.frame.DataFrame'>\n",
            "Int64Index: 3376 entries, 163 to 32577\n",
            "Data columns (total 3 columns):\n",
            "coords          3376 non-null object\n",
            "counts          3376 non-null int64\n",
            "tripdistance    3376 non-null float64\n",
            "dtypes: float64(1), int64(1), object(1)\n",
            "memory usage: 92.3+ KB\n"
          ]
        }
      ],
      "execution_count": 171,
      "metadata": {}
    },
    {
      "cell_type": "code",
      "source": [
        "unique_trips_distance = pd.concat([unique_trips_distance,no_distance])\n",
        "unique_trips = unique_trips[unique_trips['tripdistance'].isnull() == False]\n",
        "unique_trips = pd.concat([unique_trips,no_distance])\n",
        "unique_trips_distance.to_csv(r'C:\\Users\\Jacobo\\Desktop\\citibike2019\\coordsdistance\\coordsdistance.csv')\n",
        "unique_trips.head()"
      ],
      "outputs": [
        {
          "output_type": "stream",
          "name": "stderr",
          "text": [
            "c:\\program files (x86)\\python37-32\\lib\\site-packages\\ipykernel_launcher.py:1: FutureWarning: Sorting because non-concatenation axis is not aligned. A future version\n",
            "of pandas will change to not sort by default.\n",
            "\n",
            "To accept the future behavior, pass 'sort=False'.\n",
            "\n",
            "To retain the current behavior and silence the warning, pass 'sort=True'.\n",
            "\n",
            "  \"\"\"Entry point for launching an IPython kernel.\n"
          ]
        },
        {
          "output_type": "execute_result",
          "execution_count": 172,
          "data": {
            "text/html": "<div>\n<style scoped>\n    .dataframe tbody tr th:only-of-type {\n        vertical-align: middle;\n    }\n\n    .dataframe tbody tr th {\n        vertical-align: top;\n    }\n\n    .dataframe thead th {\n        text-align: right;\n    }\n</style>\n<table border=\"1\" class=\"dataframe\">\n  <thead>\n    <tr style=\"text-align: right;\">\n      <th></th>\n      <th>coords</th>\n      <th>counts</th>\n      <th>tripdistance</th>\n    </tr>\n  </thead>\n  <tbody>\n    <tr>\n      <td>0</td>\n      <td>40.77140426,-73.9535166|40.77314236,-73.95856158</td>\n      <td>375</td>\n      <td>0.5182</td>\n    </tr>\n    <tr>\n      <td>1</td>\n      <td>40.77579376683666,-73.97620573639871|40.772828...</td>\n      <td>334</td>\n      <td>1.6013</td>\n    </tr>\n    <tr>\n      <td>2</td>\n      <td>40.779668090073116,-73.98093044757842|40.78293...</td>\n      <td>310</td>\n      <td>0.4088</td>\n    </tr>\n    <tr>\n      <td>3</td>\n      <td>40.7869946,-73.94164802|40.7839636,-73.9471672...</td>\n      <td>305</td>\n      <td>0.9254</td>\n    </tr>\n    <tr>\n      <td>4</td>\n      <td>40.779668090073116,-73.98093044757842|40.78524...</td>\n      <td>299</td>\n      <td>0.7210</td>\n    </tr>\n  </tbody>\n</table>\n</div>",
            "text/plain": "                                              coords  counts  tripdistance\n0   40.77140426,-73.9535166|40.77314236,-73.95856158     375        0.5182\n1  40.77579376683666,-73.97620573639871|40.772828...     334        1.6013\n2  40.779668090073116,-73.98093044757842|40.78293...     310        0.4088\n3  40.7869946,-73.94164802|40.7839636,-73.9471672...     305        0.9254\n4  40.779668090073116,-73.98093044757842|40.78524...     299        0.7210"
          },
          "metadata": {}
        }
      ],
      "execution_count": 172,
      "metadata": {}
    },
    {
      "cell_type": "code",
      "source": [
        "df_airbike = df.merge(how='left', right=unique_trips, left_on='coords', right_on='coords').drop(['coords','counts'], axis=1).fillna(\"\")\n",
        "df_airbike.head()"
      ],
      "outputs": [
        {
          "output_type": "execute_result",
          "execution_count": 173,
          "data": {
            "text/html": "<div>\n<style scoped>\n    .dataframe tbody tr th:only-of-type {\n        vertical-align: middle;\n    }\n\n    .dataframe tbody tr th {\n        vertical-align: top;\n    }\n\n    .dataframe thead th {\n        text-align: right;\n    }\n</style>\n<table border=\"1\" class=\"dataframe\">\n  <thead>\n    <tr style=\"text-align: right;\">\n      <th></th>\n      <th>tripduration</th>\n      <th>starttime</th>\n      <th>startstationid</th>\n      <th>startstationlatitude</th>\n      <th>startstationlongitude</th>\n      <th>endstationid</th>\n      <th>endstationlatitude</th>\n      <th>endstationlongitude</th>\n      <th>aqstation</th>\n      <th>aqdistance</th>\n      <th>o3</th>\n      <th>tripdistance</th>\n    </tr>\n  </thead>\n  <tbody>\n    <tr>\n      <td>0</td>\n      <td>174</td>\n      <td>2019-10-01 00:00:00</td>\n      <td>3301</td>\n      <td>40.791956</td>\n      <td>-73.968087</td>\n      <td>3283</td>\n      <td>40.788221</td>\n      <td>-73.970416</td>\n      <td>CCNY</td>\n      <td>3.514977</td>\n      <td>0.022000000000000002</td>\n      <td>0.9640</td>\n    </tr>\n    <tr>\n      <td>1</td>\n      <td>307</td>\n      <td>2019-10-01 00:00:00</td>\n      <td>3314</td>\n      <td>40.793770</td>\n      <td>-73.971888</td>\n      <td>3366</td>\n      <td>40.802117</td>\n      <td>-73.968181</td>\n      <td>CCNY</td>\n      <td>3.511314</td>\n      <td>0.022000000000000002</td>\n      <td>1.0927</td>\n    </tr>\n    <tr>\n      <td>2</td>\n      <td>737</td>\n      <td>2019-10-01 00:00:00</td>\n      <td>3514</td>\n      <td>40.776700</td>\n      <td>-73.927631</td>\n      <td>3513</td>\n      <td>40.774645</td>\n      <td>-73.923706</td>\n      <td>Bronx - IS52</td>\n      <td>4.877662</td>\n      <td>0.022000000000000002</td>\n      <td>0.4152</td>\n    </tr>\n    <tr>\n      <td>3</td>\n      <td>441</td>\n      <td>2019-10-01 00:00:00</td>\n      <td>3494</td>\n      <td>40.797911</td>\n      <td>-73.942300</td>\n      <td>3387</td>\n      <td>40.793434</td>\n      <td>-73.949450</td>\n      <td>CCNY</td>\n      <td>2.472288</td>\n      <td>0.022000000000000002</td>\n      <td>1.4677</td>\n    </tr>\n    <tr>\n      <td>4</td>\n      <td>322</td>\n      <td>2019-10-01 00:00:00</td>\n      <td>3145</td>\n      <td>40.778627</td>\n      <td>-73.957721</td>\n      <td>3299</td>\n      <td>40.788130</td>\n      <td>-73.952060</td>\n      <td>CCNY</td>\n      <td>4.639821</td>\n      <td>0.022000000000000002</td>\n      <td>1.4484</td>\n    </tr>\n  </tbody>\n</table>\n</div>",
            "text/plain": "   tripduration            starttime  startstationid  startstationlatitude  \\\n0           174  2019-10-01 00:00:00            3301             40.791956   \n1           307  2019-10-01 00:00:00            3314             40.793770   \n2           737  2019-10-01 00:00:00            3514             40.776700   \n3           441  2019-10-01 00:00:00            3494             40.797911   \n4           322  2019-10-01 00:00:00            3145             40.778627   \n\n   startstationlongitude  endstationid  endstationlatitude  \\\n0             -73.968087          3283           40.788221   \n1             -73.971888          3366           40.802117   \n2             -73.927631          3513           40.774645   \n3             -73.942300          3387           40.793434   \n4             -73.957721          3299           40.788130   \n\n   endstationlongitude     aqstation  aqdistance                    o3  \\\n0           -73.970416          CCNY    3.514977  0.022000000000000002   \n1           -73.968181          CCNY    3.511314  0.022000000000000002   \n2           -73.923706  Bronx - IS52    4.877662  0.022000000000000002   \n3           -73.949450          CCNY    2.472288  0.022000000000000002   \n4           -73.952060          CCNY    4.639821  0.022000000000000002   \n\n   tripdistance  \n0        0.9640  \n1        1.0927  \n2        0.4152  \n3        1.4677  \n4        1.4484  "
          },
          "metadata": {}
        }
      ],
      "execution_count": 173,
      "metadata": {}
    },
    {
      "cell_type": "code",
      "source": [
        "df_airbike.to_csv(r'\\airbikedistance\\abd2019'+month+'.csv')"
      ],
      "outputs": [],
      "execution_count": 174,
      "metadata": {}
    }
  ],
  "metadata": {
    "kernelspec": {
      "display_name": "Python 3",
      "language": "python",
      "name": "python3"
    },
    "language_info": {
      "codemirror_mode": {
        "name": "ipython",
        "version": 3
      },
      "file_extension": ".py",
      "mimetype": "text/x-python",
      "name": "python",
      "nbconvert_exporter": "python",
      "pygments_lexer": "ipython3",
      "version": "3.7.4"
    },
    "nteract": {
      "version": "0.24.0"
    }
  },
  "nbformat": 4,
  "nbformat_minor": 2
}