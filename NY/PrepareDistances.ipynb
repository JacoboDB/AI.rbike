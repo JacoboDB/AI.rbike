{
  "cells": [
    {
      "cell_type": "code",
      "source": [
        "import pandas as pd\n",
        "import numpy as np\n",
        "import matplotlib.pylab as plt\n",
        "import seaborn as sns\n",
        "import glob\n",
        "from datetime import date\n",
        "from datetime import datetime\n",
        "import math\n",
        "import requests\n",
        "from math import sin, cos, sqrt, atan2, radians"
      ],
      "outputs": [],
      "execution_count": 22,
      "metadata": {}
    },
    {
      "cell_type": "code",
      "source": [
        "month = '01'\n",
        "df = pd.read_csv(r'airbike\\2019'+month+'.csv')\n",
        "df = df[['tripduration', 'starttime', 'startstationid', 'startstationlatitude',\n",
        "       'startstationlongitude', 'endstationid', 'endstationlatitude',\n",
        "       'endstationlongitude', 'aqstation', 'aqdistance', 'o3']]\n",
        "df = df[df['o3'] != '-']\n",
        "df.head(5)"
      ],
      "outputs": [
        {
          "output_type": "execute_result",
          "execution_count": 23,
          "data": {
            "text/html": "<div>\n<style scoped>\n    .dataframe tbody tr th:only-of-type {\n        vertical-align: middle;\n    }\n\n    .dataframe tbody tr th {\n        vertical-align: top;\n    }\n\n    .dataframe thead th {\n        text-align: right;\n    }\n</style>\n<table border=\"1\" class=\"dataframe\">\n  <thead>\n    <tr style=\"text-align: right;\">\n      <th></th>\n      <th>tripduration</th>\n      <th>starttime</th>\n      <th>startstationid</th>\n      <th>startstationlatitude</th>\n      <th>startstationlongitude</th>\n      <th>endstationid</th>\n      <th>endstationlatitude</th>\n      <th>endstationlongitude</th>\n      <th>aqstation</th>\n      <th>aqdistance</th>\n      <th>o3</th>\n    </tr>\n  </thead>\n  <tbody>\n    <tr>\n      <td>0</td>\n      <td>320</td>\n      <td>2019-01-01 00:00:00</td>\n      <td>3160</td>\n      <td>40.778968</td>\n      <td>-73.973747</td>\n      <td>3283</td>\n      <td>40.788221</td>\n      <td>-73.970416</td>\n      <td>CCNY</td>\n      <td>5.018988</td>\n      <td>0.011000000000000001</td>\n    </tr>\n    <tr>\n      <td>2</td>\n      <td>591</td>\n      <td>2019-01-01 00:00:00</td>\n      <td>3171</td>\n      <td>40.785247</td>\n      <td>-73.976673</td>\n      <td>3154</td>\n      <td>40.773142</td>\n      <td>-73.958562</td>\n      <td>CCNY</td>\n      <td>4.524800</td>\n      <td>0.011000000000000001</td>\n    </tr>\n    <tr>\n      <td>5</td>\n      <td>535</td>\n      <td>2019-01-01 00:00:00</td>\n      <td>3630</td>\n      <td>40.803865</td>\n      <td>-73.955931</td>\n      <td>3529</td>\n      <td>40.810792</td>\n      <td>-73.943068</td>\n      <td>CCNY</td>\n      <td>1.880613</td>\n      <td>0.011000000000000001</td>\n    </tr>\n    <tr>\n      <td>6</td>\n      <td>280</td>\n      <td>2019-01-01 00:00:00</td>\n      <td>3675</td>\n      <td>40.784597</td>\n      <td>-73.949685</td>\n      <td>3288</td>\n      <td>40.778301</td>\n      <td>-73.948813</td>\n      <td>CCNY</td>\n      <td>3.906804</td>\n      <td>0.011000000000000001</td>\n    </tr>\n    <tr>\n      <td>17</td>\n      <td>3494</td>\n      <td>2019-01-01 00:00:00</td>\n      <td>3171</td>\n      <td>40.785247</td>\n      <td>-73.976673</td>\n      <td>3164</td>\n      <td>40.777057</td>\n      <td>-73.978985</td>\n      <td>CCNY</td>\n      <td>4.524800</td>\n      <td>0.011000000000000001</td>\n    </tr>\n  </tbody>\n</table>\n</div>",
            "text/plain": "    tripduration            starttime startstationid  startstationlatitude  \\\n0            320  2019-01-01 00:00:00           3160             40.778968   \n2            591  2019-01-01 00:00:00           3171             40.785247   \n5            535  2019-01-01 00:00:00           3630             40.803865   \n6            280  2019-01-01 00:00:00           3675             40.784597   \n17          3494  2019-01-01 00:00:00           3171             40.785247   \n\n    startstationlongitude endstationid  endstationlatitude  \\\n0              -73.973747         3283           40.788221   \n2              -73.976673         3154           40.773142   \n5              -73.955931         3529           40.810792   \n6              -73.949685         3288           40.778301   \n17             -73.976673         3164           40.777057   \n\n    endstationlongitude aqstation  aqdistance                    o3  \n0            -73.970416      CCNY    5.018988  0.011000000000000001  \n2            -73.958562      CCNY    4.524800  0.011000000000000001  \n5            -73.943068      CCNY    1.880613  0.011000000000000001  \n6            -73.948813      CCNY    3.906804  0.011000000000000001  \n17           -73.978985      CCNY    4.524800  0.011000000000000001  "
          },
          "metadata": {}
        }
      ],
      "execution_count": 23,
      "metadata": {}
    },
    {
      "cell_type": "code",
      "source": [
        "df.info()"
      ],
      "outputs": [
        {
          "output_type": "stream",
          "name": "stdout",
          "text": [
            "<class 'pandas.core.frame.DataFrame'>\n",
            "Int64Index: 126816 entries, 0 to 967280\n",
            "Data columns (total 11 columns):\n",
            "tripduration             126816 non-null int64\n",
            "starttime                126816 non-null object\n",
            "startstationid           126816 non-null object\n",
            "startstationlatitude     126816 non-null float64\n",
            "startstationlongitude    126816 non-null float64\n",
            "endstationid             126816 non-null object\n",
            "endstationlatitude       126816 non-null float64\n",
            "endstationlongitude      126816 non-null float64\n",
            "aqstation                126816 non-null object\n",
            "aqdistance               126816 non-null float64\n",
            "o3                       126816 non-null object\n",
            "dtypes: float64(5), int64(1), object(5)\n",
            "memory usage: 9.2+ MB\n"
          ]
        }
      ],
      "execution_count": 24,
      "metadata": {
        "scrolled": true
      }
    },
    {
      "cell_type": "code",
      "source": [
        "def merge_start_end_coords(lat1,lon1,lat2,lon2):\n",
        "    return f'{lat1},{lon1}|{lat2},{lon2}'\n",
        "df['coords'] = df.apply(lambda row: merge_start_end_coords(row['startstationlatitude'],row['startstationlongitude'],row['endstationlatitude'],row['endstationlongitude'],),axis = 1)\n",
        "df.head()"
      ],
      "outputs": [
        {
          "output_type": "execute_result",
          "execution_count": 25,
          "data": {
            "text/html": "<div>\n<style scoped>\n    .dataframe tbody tr th:only-of-type {\n        vertical-align: middle;\n    }\n\n    .dataframe tbody tr th {\n        vertical-align: top;\n    }\n\n    .dataframe thead th {\n        text-align: right;\n    }\n</style>\n<table border=\"1\" class=\"dataframe\">\n  <thead>\n    <tr style=\"text-align: right;\">\n      <th></th>\n      <th>tripduration</th>\n      <th>starttime</th>\n      <th>startstationid</th>\n      <th>startstationlatitude</th>\n      <th>startstationlongitude</th>\n      <th>endstationid</th>\n      <th>endstationlatitude</th>\n      <th>endstationlongitude</th>\n      <th>aqstation</th>\n      <th>aqdistance</th>\n      <th>o3</th>\n      <th>coords</th>\n    </tr>\n  </thead>\n  <tbody>\n    <tr>\n      <td>0</td>\n      <td>320</td>\n      <td>2019-01-01 00:00:00</td>\n      <td>3160</td>\n      <td>40.778968</td>\n      <td>-73.973747</td>\n      <td>3283</td>\n      <td>40.788221</td>\n      <td>-73.970416</td>\n      <td>CCNY</td>\n      <td>5.018988</td>\n      <td>0.011000000000000001</td>\n      <td>40.77896784,-73.97374737|40.7882213,-73.97041561</td>\n    </tr>\n    <tr>\n      <td>2</td>\n      <td>591</td>\n      <td>2019-01-01 00:00:00</td>\n      <td>3171</td>\n      <td>40.785247</td>\n      <td>-73.976673</td>\n      <td>3154</td>\n      <td>40.773142</td>\n      <td>-73.958562</td>\n      <td>CCNY</td>\n      <td>4.524800</td>\n      <td>0.011000000000000001</td>\n      <td>40.78524672,-73.97667321|40.77314236,-73.95856158</td>\n    </tr>\n    <tr>\n      <td>5</td>\n      <td>535</td>\n      <td>2019-01-01 00:00:00</td>\n      <td>3630</td>\n      <td>40.803865</td>\n      <td>-73.955931</td>\n      <td>3529</td>\n      <td>40.810792</td>\n      <td>-73.943068</td>\n      <td>CCNY</td>\n      <td>1.880613</td>\n      <td>0.011000000000000001</td>\n      <td>40.8038654,-73.95593079999998|40.8107922,-73.9...</td>\n    </tr>\n    <tr>\n      <td>6</td>\n      <td>280</td>\n      <td>2019-01-01 00:00:00</td>\n      <td>3675</td>\n      <td>40.784597</td>\n      <td>-73.949685</td>\n      <td>3288</td>\n      <td>40.778301</td>\n      <td>-73.948813</td>\n      <td>CCNY</td>\n      <td>3.906804</td>\n      <td>0.011000000000000001</td>\n      <td>40.784596798848916,-73.94968539476396|40.77830...</td>\n    </tr>\n    <tr>\n      <td>17</td>\n      <td>3494</td>\n      <td>2019-01-01 00:00:00</td>\n      <td>3171</td>\n      <td>40.785247</td>\n      <td>-73.976673</td>\n      <td>3164</td>\n      <td>40.777057</td>\n      <td>-73.978985</td>\n      <td>CCNY</td>\n      <td>4.524800</td>\n      <td>0.011000000000000001</td>\n      <td>40.78524672,-73.97667321|40.7770575,-73.97898475</td>\n    </tr>\n  </tbody>\n</table>\n</div>",
            "text/plain": "    tripduration            starttime startstationid  startstationlatitude  \\\n0            320  2019-01-01 00:00:00           3160             40.778968   \n2            591  2019-01-01 00:00:00           3171             40.785247   \n5            535  2019-01-01 00:00:00           3630             40.803865   \n6            280  2019-01-01 00:00:00           3675             40.784597   \n17          3494  2019-01-01 00:00:00           3171             40.785247   \n\n    startstationlongitude endstationid  endstationlatitude  \\\n0              -73.973747         3283           40.788221   \n2              -73.976673         3154           40.773142   \n5              -73.955931         3529           40.810792   \n6              -73.949685         3288           40.778301   \n17             -73.976673         3164           40.777057   \n\n    endstationlongitude aqstation  aqdistance                    o3  \\\n0            -73.970416      CCNY    5.018988  0.011000000000000001   \n2            -73.958562      CCNY    4.524800  0.011000000000000001   \n5            -73.943068      CCNY    1.880613  0.011000000000000001   \n6            -73.948813      CCNY    3.906804  0.011000000000000001   \n17           -73.978985      CCNY    4.524800  0.011000000000000001   \n\n                                               coords  \n0    40.77896784,-73.97374737|40.7882213,-73.97041561  \n2   40.78524672,-73.97667321|40.77314236,-73.95856158  \n5   40.8038654,-73.95593079999998|40.8107922,-73.9...  \n6   40.784596798848916,-73.94968539476396|40.77830...  \n17   40.78524672,-73.97667321|40.7770575,-73.97898475  "
          },
          "metadata": {}
        }
      ],
      "execution_count": 25,
      "metadata": {}
    },
    {
      "cell_type": "code",
      "source": [
        "unique_trips = df['coords'].value_counts().rename_axis('coords').reset_index(name='counts')\n",
        "unique_trips.head()"
      ],
      "outputs": [
        {
          "output_type": "execute_result",
          "execution_count": 26,
          "data": {
            "text/html": "<div>\n<style scoped>\n    .dataframe tbody tr th:only-of-type {\n        vertical-align: middle;\n    }\n\n    .dataframe tbody tr th {\n        vertical-align: top;\n    }\n\n    .dataframe thead th {\n        text-align: right;\n    }\n</style>\n<table border=\"1\" class=\"dataframe\">\n  <thead>\n    <tr style=\"text-align: right;\">\n      <th></th>\n      <th>coords</th>\n      <th>counts</th>\n    </tr>\n  </thead>\n  <tbody>\n    <tr>\n      <td>0</td>\n      <td>40.7869946,-73.94164802|40.7839636,-73.9471672...</td>\n      <td>226</td>\n    </tr>\n    <tr>\n      <td>1</td>\n      <td>40.77140426,-73.9535166|40.77314236,-73.95856158</td>\n      <td>208</td>\n    </tr>\n    <tr>\n      <td>2</td>\n      <td>40.77536905,-73.94803392|40.77801203,-73.95407149</td>\n      <td>202</td>\n    </tr>\n    <tr>\n      <td>3</td>\n      <td>40.76500525,-73.95818491|40.77140426,-73.9535166</td>\n      <td>172</td>\n    </tr>\n    <tr>\n      <td>4</td>\n      <td>40.779668090073116,-73.98093044757842|40.78524...</td>\n      <td>158</td>\n    </tr>\n  </tbody>\n</table>\n</div>",
            "text/plain": "                                              coords  counts\n0  40.7869946,-73.94164802|40.7839636,-73.9471672...     226\n1   40.77140426,-73.9535166|40.77314236,-73.95856158     208\n2  40.77536905,-73.94803392|40.77801203,-73.95407149     202\n3   40.76500525,-73.95818491|40.77140426,-73.9535166     172\n4  40.779668090073116,-73.98093044757842|40.78524...     158"
          },
          "metadata": {}
        }
      ],
      "execution_count": 26,
      "metadata": {
        "scrolled": true
      }
    },
    {
      "cell_type": "code",
      "source": [
        "u1 = unique_trips[0:10000]\n",
        "u1.shape"
      ],
      "outputs": [
        {
          "output_type": "execute_result",
          "execution_count": 27,
          "data": {
            "text/plain": "(10000, 2)"
          },
          "metadata": {}
        }
      ],
      "execution_count": 27,
      "metadata": {}
    },
    {
      "cell_type": "code",
      "source": [
        "def get_distance_map_api(lat1,long1, lat2, long2):\n",
        "  #key from https://developer.mapquest.com/documentation/samples/directions/v2/route/\n",
        "  r = requests.get('https://www.mapquestapi.com/directions/v2/route?key=lYrP4vF3Uk5zgTiGGuEzQGwGIVDGuy24&unit=k&from='+str(lat1)+'%2C'+str(long1)+'&to='+str(lat2)+'%2C'+str(long2)+'&outFormat=json&ambiguities=ignore&routeType=bicycle&doReverseGeocode=false&enhancedNarrative=false&avoidTimedConditions=true')\n",
        "  return r.json()['route']['distance']\n",
        "def get_distance(coords):\n",
        "    coords = coords.split('|')\n",
        "    startcoords = coords[0].split(',')\n",
        "    endcoords = coords[1].split(',')\n",
        "    return float(get_distance_map_api(startcoords[0],startcoords[1],endcoords[0], endcoords[1]))"
      ],
      "outputs": [],
      "execution_count": 28,
      "metadata": {}
    },
    {
      "cell_type": "code",
      "source": [
        "u1['tripdistance'] = u1['coords'].apply(lambda x: get_distance(x))\n",
        "u1.head()"
      ],
      "outputs": [
        {
          "output_type": "stream",
          "name": "stderr",
          "text": [
            "c:\\program files (x86)\\python37-32\\lib\\site-packages\\ipykernel_launcher.py:1: SettingWithCopyWarning: \n",
            "A value is trying to be set on a copy of a slice from a DataFrame.\n",
            "Try using .loc[row_indexer,col_indexer] = value instead\n",
            "\n",
            "See the caveats in the documentation: http://pandas.pydata.org/pandas-docs/stable/user_guide/indexing.html#returning-a-view-versus-a-copy\n",
            "  \"\"\"Entry point for launching an IPython kernel.\n"
          ]
        },
        {
          "output_type": "execute_result",
          "execution_count": 29,
          "data": {
            "text/html": "<div>\n<style scoped>\n    .dataframe tbody tr th:only-of-type {\n        vertical-align: middle;\n    }\n\n    .dataframe tbody tr th {\n        vertical-align: top;\n    }\n\n    .dataframe thead th {\n        text-align: right;\n    }\n</style>\n<table border=\"1\" class=\"dataframe\">\n  <thead>\n    <tr style=\"text-align: right;\">\n      <th></th>\n      <th>coords</th>\n      <th>counts</th>\n      <th>tripdistance</th>\n    </tr>\n  </thead>\n  <tbody>\n    <tr>\n      <td>0</td>\n      <td>40.7869946,-73.94164802|40.7839636,-73.9471672...</td>\n      <td>226</td>\n      <td>0.9254</td>\n    </tr>\n    <tr>\n      <td>1</td>\n      <td>40.77140426,-73.9535166|40.77314236,-73.95856158</td>\n      <td>208</td>\n      <td>0.5182</td>\n    </tr>\n    <tr>\n      <td>2</td>\n      <td>40.77536905,-73.94803392|40.77801203,-73.95407149</td>\n      <td>202</td>\n      <td>0.5858</td>\n    </tr>\n    <tr>\n      <td>3</td>\n      <td>40.76500525,-73.95818491|40.77140426,-73.9535166</td>\n      <td>172</td>\n      <td>0.8143</td>\n    </tr>\n    <tr>\n      <td>4</td>\n      <td>40.779668090073116,-73.98093044757842|40.78524...</td>\n      <td>158</td>\n      <td>0.7210</td>\n    </tr>\n  </tbody>\n</table>\n</div>",
            "text/plain": "                                              coords  counts  tripdistance\n0  40.7869946,-73.94164802|40.7839636,-73.9471672...     226        0.9254\n1   40.77140426,-73.9535166|40.77314236,-73.95856158     208        0.5182\n2  40.77536905,-73.94803392|40.77801203,-73.95407149     202        0.5858\n3   40.76500525,-73.95818491|40.77140426,-73.9535166     172        0.8143\n4  40.779668090073116,-73.98093044757842|40.78524...     158        0.7210"
          },
          "metadata": {}
        }
      ],
      "execution_count": 29,
      "metadata": {
        "scrolled": true
      }
    },
    {
      "cell_type": "code",
      "source": [
        "u1.tripdistance.value_counts()"
      ],
      "outputs": [
        {
          "output_type": "execute_result",
          "execution_count": 31,
          "data": {
            "text/plain": "0.0000     170\n1.3245      12\n2.9821      11\n1.5578      11\n1.5176      11\n          ... \n5.0710       1\n4.6253       1\n10.1260      1\n8.7597       1\n5.3639       1\nName: tripdistance, Length: 3289, dtype: int64"
          },
          "metadata": {}
        }
      ],
      "execution_count": 31,
      "metadata": {}
    },
    {
      "cell_type": "code",
      "source": [
        "u1.to_csv(r'coordsdistance\\coordsdistance1.csv')"
      ],
      "outputs": [],
      "execution_count": 33,
      "metadata": {}
    },
    {
      "cell_type": "code",
      "source": [
        "'''df_airbike = df.merge(how='left', right=unique_trips, left_on='coords', right_on='coords').drop('startcoords', axis=1).drop(['coords','counts'], axis=1).fillna(\"\")\n",
        "df_airbike.head()'''"
      ],
      "outputs": [
        {
          "output_type": "execute_result",
          "execution_count": 30,
          "data": {
            "text/plain": "'df_airbike = df.merge(how=\\'left\\', right=unique_trips, left_on=\\'coords\\', right_on=\\'coords\\').drop(\\'startcoords\\', axis=1).drop([\\'coords\\',\\'counts\\'], axis=1).fillna(\"\")\\ndf_airbike.head()'"
          },
          "metadata": {}
        }
      ],
      "execution_count": 30,
      "metadata": {}
    }
  ],
  "metadata": {
    "kernelspec": {
      "display_name": "Python 3",
      "language": "python",
      "name": "python3"
    },
    "language_info": {
      "codemirror_mode": {
        "name": "ipython",
        "version": 3
      },
      "file_extension": ".py",
      "mimetype": "text/x-python",
      "name": "python",
      "nbconvert_exporter": "python",
      "pygments_lexer": "ipython3",
      "version": "3.7.4"
    },
    "nteract": {
      "version": "0.24.0"
    }
  },
  "nbformat": 4,
  "nbformat_minor": 2
}