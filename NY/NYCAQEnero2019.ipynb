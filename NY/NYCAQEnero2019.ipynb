{
  "nbformat": 4,
  "nbformat_minor": 0,
  "metadata": {
    "colab": {
      "name": "NYCAQEnero2019.ipynb",
      "provenance": []
    },
    "kernelspec": {
      "name": "python3",
      "display_name": "Python 3"
    }
  },
  "cells": [
    {
      "cell_type": "code",
      "metadata": {
        "id": "GCA1J7A4BDgw",
        "colab_type": "code",
        "colab": {
          "base_uri": "https://localhost:8080/",
          "height": 52
        },
        "outputId": "b6fd7768-6a4f-48fc-d858-3c7da7f1cdf4"
      },
      "source": [
        "import pandas as pd\n",
        "import numpy as np\n",
        "import matplotlib.pylab as plt\n",
        "import seaborn as sns\n",
        "import glob\n",
        "from datetime import date\n",
        "from datetime import datetime\n",
        "import math"
      ],
      "execution_count": null,
      "outputs": [
        {
          "output_type": "stream",
          "text": [
            "/usr/local/lib/python3.6/dist-packages/statsmodels/tools/_testing.py:19: FutureWarning: pandas.util.testing is deprecated. Use the functions in the public API at pandas.testing instead.\n",
            "  import pandas.util.testing as tm\n"
          ],
          "name": "stderr"
        }
      ]
    },
    {
      "cell_type": "code",
      "metadata": {
        "id": "U9O1SUl6BJcX",
        "colab_type": "code",
        "colab": {
          "base_uri": "https://localhost:8080/",
          "height": 125
        },
        "outputId": "d6d28a85-fff3-46fc-ab85-304cb3199ce3"
      },
      "source": [
        "from google.colab import drive\n",
        "drive.mount('/content/gdrive/')"
      ],
      "execution_count": null,
      "outputs": [
        {
          "output_type": "stream",
          "text": [
            "Go to this URL in a browser: https://accounts.google.com/o/oauth2/auth?client_id=947318989803-6bn6qk8qdgf4n4g3pfee6491hc0brc4i.apps.googleusercontent.com&redirect_uri=urn%3aietf%3awg%3aoauth%3a2.0%3aoob&response_type=code&scope=email%20https%3a%2f%2fwww.googleapis.com%2fauth%2fdocs.test%20https%3a%2f%2fwww.googleapis.com%2fauth%2fdrive%20https%3a%2f%2fwww.googleapis.com%2fauth%2fdrive.photos.readonly%20https%3a%2f%2fwww.googleapis.com%2fauth%2fpeopleapi.readonly\n",
            "\n",
            "Enter your authorization code:\n",
            "··········\n",
            "Mounted at /content/gdrive/\n"
          ],
          "name": "stdout"
        }
      ]
    },
    {
      "cell_type": "code",
      "metadata": {
        "id": "OYX2teFAP0mJ",
        "colab_type": "code",
        "colab": {
          "base_uri": "https://localhost:8080/",
          "height": 281
        },
        "outputId": "c0ad93a7-ea87-4aa3-bf74-d6b4d442c56b"
      },
      "source": [
        "df = pd.read_csv('gdrive/My Drive/EDA NY/ny-jan2019.csv')\n",
        "df.head()"
      ],
      "execution_count": null,
      "outputs": [
        {
          "output_type": "execute_result",
          "data": {
            "text/html": [
              "<div>\n",
              "<style scoped>\n",
              "    .dataframe tbody tr th:only-of-type {\n",
              "        vertical-align: middle;\n",
              "    }\n",
              "\n",
              "    .dataframe tbody tr th {\n",
              "        vertical-align: top;\n",
              "    }\n",
              "\n",
              "    .dataframe thead th {\n",
              "        text-align: right;\n",
              "    }\n",
              "</style>\n",
              "<table border=\"1\" class=\"dataframe\">\n",
              "  <thead>\n",
              "    <tr style=\"text-align: right;\">\n",
              "      <th></th>\n",
              "      <th>date</th>\n",
              "      <th>parameter</th>\n",
              "      <th>location</th>\n",
              "      <th>value</th>\n",
              "      <th>unit</th>\n",
              "      <th>city</th>\n",
              "      <th>attribution</th>\n",
              "      <th>averagingperiod</th>\n",
              "      <th>coordinates</th>\n",
              "      <th>country</th>\n",
              "      <th>sourcename</th>\n",
              "      <th>sourcetype</th>\n",
              "      <th>mobile</th>\n",
              "    </tr>\n",
              "  </thead>\n",
              "  <tbody>\n",
              "    <tr>\n",
              "      <th>0</th>\n",
              "      <td>{utc=2019-01-04T17:00:00.000Z, local=2019-01-0...</td>\n",
              "      <td>o3</td>\n",
              "      <td>Bronx - IS52</td>\n",
              "      <td>0.011</td>\n",
              "      <td>ppm</td>\n",
              "      <td>New York-Northern New Jersey-Long Island</td>\n",
              "      <td>[{name=US EPA AirNow, url=http://www.airnow.go...</td>\n",
              "      <td>{unit=hours, value=1.0}</td>\n",
              "      <td>{latitude=40.8161, longitude=-73.9022}</td>\n",
              "      <td>US</td>\n",
              "      <td>AirNow</td>\n",
              "      <td>government</td>\n",
              "      <td>False</td>\n",
              "    </tr>\n",
              "    <tr>\n",
              "      <th>1</th>\n",
              "      <td>{utc=2019-01-04T17:00:00.000Z, local=2019-01-0...</td>\n",
              "      <td>pm10</td>\n",
              "      <td>Bronx - IS52</td>\n",
              "      <td>28.000</td>\n",
              "      <td>µg/m³</td>\n",
              "      <td>New York-Northern New Jersey-Long Island</td>\n",
              "      <td>[{name=US EPA AirNow, url=http://www.airnow.go...</td>\n",
              "      <td>{unit=hours, value=1.0}</td>\n",
              "      <td>{latitude=40.8161, longitude=-73.9022}</td>\n",
              "      <td>US</td>\n",
              "      <td>AirNow</td>\n",
              "      <td>government</td>\n",
              "      <td>False</td>\n",
              "    </tr>\n",
              "    <tr>\n",
              "      <th>2</th>\n",
              "      <td>{utc=2019-01-04T17:00:00.000Z, local=2019-01-0...</td>\n",
              "      <td>o3</td>\n",
              "      <td>Pfizer Lab</td>\n",
              "      <td>0.011</td>\n",
              "      <td>ppm</td>\n",
              "      <td>New York-Northern New Jersey-Long Island</td>\n",
              "      <td>[{name=US EPA AirNow, url=http://www.airnow.go...</td>\n",
              "      <td>{unit=hours, value=1.0}</td>\n",
              "      <td>{latitude=40.868, longitude=-73.8782}</td>\n",
              "      <td>US</td>\n",
              "      <td>AirNow</td>\n",
              "      <td>government</td>\n",
              "      <td>False</td>\n",
              "    </tr>\n",
              "    <tr>\n",
              "      <th>3</th>\n",
              "      <td>{utc=2019-01-04T17:00:00.000Z, local=2019-01-0...</td>\n",
              "      <td>pm25</td>\n",
              "      <td>Bklyn - PS274</td>\n",
              "      <td>12.400</td>\n",
              "      <td>µg/m³</td>\n",
              "      <td>New York-Northern New Jersey-Long Island</td>\n",
              "      <td>[{name=US EPA AirNow, url=http://www.airnow.go...</td>\n",
              "      <td>{unit=hours, value=1.0}</td>\n",
              "      <td>{latitude=40.6944, longitude=-73.9286}</td>\n",
              "      <td>US</td>\n",
              "      <td>AirNow</td>\n",
              "      <td>government</td>\n",
              "      <td>False</td>\n",
              "    </tr>\n",
              "    <tr>\n",
              "      <th>4</th>\n",
              "      <td>{utc=2019-01-04T17:00:00.000Z, local=2019-01-0...</td>\n",
              "      <td>pm25</td>\n",
              "      <td>Eisenhower Park</td>\n",
              "      <td>11.700</td>\n",
              "      <td>µg/m³</td>\n",
              "      <td>New York-Northern New Jersey-Long Island</td>\n",
              "      <td>[{name=US EPA AirNow, url=http://www.airnow.go...</td>\n",
              "      <td>{unit=hours, value=1.0}</td>\n",
              "      <td>{latitude=40.7447, longitude=-73.5869}</td>\n",
              "      <td>US</td>\n",
              "      <td>AirNow</td>\n",
              "      <td>government</td>\n",
              "      <td>False</td>\n",
              "    </tr>\n",
              "  </tbody>\n",
              "</table>\n",
              "</div>"
            ],
            "text/plain": [
              "                                                date  ... mobile\n",
              "0  {utc=2019-01-04T17:00:00.000Z, local=2019-01-0...  ...  False\n",
              "1  {utc=2019-01-04T17:00:00.000Z, local=2019-01-0...  ...  False\n",
              "2  {utc=2019-01-04T17:00:00.000Z, local=2019-01-0...  ...  False\n",
              "3  {utc=2019-01-04T17:00:00.000Z, local=2019-01-0...  ...  False\n",
              "4  {utc=2019-01-04T17:00:00.000Z, local=2019-01-0...  ...  False\n",
              "\n",
              "[5 rows x 13 columns]"
            ]
          },
          "metadata": {
            "tags": []
          },
          "execution_count": 4
        }
      ]
    },
    {
      "cell_type": "code",
      "metadata": {
        "id": "ahkUD0zvQg32",
        "colab_type": "code",
        "colab": {
          "base_uri": "https://localhost:8080/",
          "height": 247
        },
        "outputId": "106941fb-787f-4eef-9e8d-3f5346c9eba2"
      },
      "source": [
        "df.groupby('date').size()"
      ],
      "execution_count": null,
      "outputs": [
        {
          "output_type": "execute_result",
          "data": {
            "text/plain": [
              "date\n",
              "{utc=2019-01-01T05:00:00.000Z, local=2019-01-01T00:00:00-05:00}    40\n",
              "{utc=2019-01-01T06:00:00.000Z, local=2019-01-01T01:00:00-05:00}    45\n",
              "{utc=2019-01-01T07:00:00.000Z, local=2019-01-01T02:00:00-05:00}    39\n",
              "{utc=2019-01-01T08:00:00.000Z, local=2019-01-01T03:00:00-05:00}    39\n",
              "{utc=2019-01-01T09:00:00.000Z, local=2019-01-01T04:00:00-05:00}    39\n",
              "                                                                   ..\n",
              "{utc=2019-01-31T00:00:00.000Z, local=2019-01-30T19:00:00-05:00}    44\n",
              "{utc=2019-01-31T01:00:00.000Z, local=2019-01-30T20:00:00-05:00}    42\n",
              "{utc=2019-01-31T02:00:00.000Z, local=2019-01-30T21:00:00-05:00}    45\n",
              "{utc=2019-01-31T03:00:00.000Z, local=2019-01-30T22:00:00-05:00}    45\n",
              "{utc=2019-01-31T04:00:00.000Z, local=2019-01-30T23:00:00-05:00}    45\n",
              "Length: 704, dtype: int64"
            ]
          },
          "metadata": {
            "tags": []
          },
          "execution_count": 5
        }
      ]
    },
    {
      "cell_type": "code",
      "metadata": {
        "id": "ulN1I2-5R1xW",
        "colab_type": "code",
        "colab": {
          "base_uri": "https://localhost:8080/",
          "height": 34
        },
        "outputId": "a0435c0a-8ee3-4897-f0d7-e06f206d2ac2"
      },
      "source": [
        "type(df.iloc[0]['date'])"
      ],
      "execution_count": null,
      "outputs": [
        {
          "output_type": "execute_result",
          "data": {
            "text/plain": [
              "str"
            ]
          },
          "metadata": {
            "tags": []
          },
          "execution_count": 6
        }
      ]
    },
    {
      "cell_type": "code",
      "metadata": {
        "id": "H1hYBUzvRABz",
        "colab_type": "code",
        "colab": {
          "base_uri": "https://localhost:8080/",
          "height": 197
        },
        "outputId": "8230a8db-23f8-4af4-cfd8-7d2b45d298ca"
      },
      "source": [
        "df = df[['date', 'parameter', 'location', 'value', 'unit', 'coordinates']]\n",
        "df.head()"
      ],
      "execution_count": null,
      "outputs": [
        {
          "output_type": "execute_result",
          "data": {
            "text/html": [
              "<div>\n",
              "<style scoped>\n",
              "    .dataframe tbody tr th:only-of-type {\n",
              "        vertical-align: middle;\n",
              "    }\n",
              "\n",
              "    .dataframe tbody tr th {\n",
              "        vertical-align: top;\n",
              "    }\n",
              "\n",
              "    .dataframe thead th {\n",
              "        text-align: right;\n",
              "    }\n",
              "</style>\n",
              "<table border=\"1\" class=\"dataframe\">\n",
              "  <thead>\n",
              "    <tr style=\"text-align: right;\">\n",
              "      <th></th>\n",
              "      <th>date</th>\n",
              "      <th>parameter</th>\n",
              "      <th>location</th>\n",
              "      <th>value</th>\n",
              "      <th>unit</th>\n",
              "      <th>coordinates</th>\n",
              "    </tr>\n",
              "  </thead>\n",
              "  <tbody>\n",
              "    <tr>\n",
              "      <th>0</th>\n",
              "      <td>{utc=2019-01-04T17:00:00.000Z, local=2019-01-0...</td>\n",
              "      <td>o3</td>\n",
              "      <td>Bronx - IS52</td>\n",
              "      <td>0.011</td>\n",
              "      <td>ppm</td>\n",
              "      <td>{latitude=40.8161, longitude=-73.9022}</td>\n",
              "    </tr>\n",
              "    <tr>\n",
              "      <th>1</th>\n",
              "      <td>{utc=2019-01-04T17:00:00.000Z, local=2019-01-0...</td>\n",
              "      <td>pm10</td>\n",
              "      <td>Bronx - IS52</td>\n",
              "      <td>28.000</td>\n",
              "      <td>µg/m³</td>\n",
              "      <td>{latitude=40.8161, longitude=-73.9022}</td>\n",
              "    </tr>\n",
              "    <tr>\n",
              "      <th>2</th>\n",
              "      <td>{utc=2019-01-04T17:00:00.000Z, local=2019-01-0...</td>\n",
              "      <td>o3</td>\n",
              "      <td>Pfizer Lab</td>\n",
              "      <td>0.011</td>\n",
              "      <td>ppm</td>\n",
              "      <td>{latitude=40.868, longitude=-73.8782}</td>\n",
              "    </tr>\n",
              "    <tr>\n",
              "      <th>3</th>\n",
              "      <td>{utc=2019-01-04T17:00:00.000Z, local=2019-01-0...</td>\n",
              "      <td>pm25</td>\n",
              "      <td>Bklyn - PS274</td>\n",
              "      <td>12.400</td>\n",
              "      <td>µg/m³</td>\n",
              "      <td>{latitude=40.6944, longitude=-73.9286}</td>\n",
              "    </tr>\n",
              "    <tr>\n",
              "      <th>4</th>\n",
              "      <td>{utc=2019-01-04T17:00:00.000Z, local=2019-01-0...</td>\n",
              "      <td>pm25</td>\n",
              "      <td>Eisenhower Park</td>\n",
              "      <td>11.700</td>\n",
              "      <td>µg/m³</td>\n",
              "      <td>{latitude=40.7447, longitude=-73.5869}</td>\n",
              "    </tr>\n",
              "  </tbody>\n",
              "</table>\n",
              "</div>"
            ],
            "text/plain": [
              "                                                date  ...                             coordinates\n",
              "0  {utc=2019-01-04T17:00:00.000Z, local=2019-01-0...  ...  {latitude=40.8161, longitude=-73.9022}\n",
              "1  {utc=2019-01-04T17:00:00.000Z, local=2019-01-0...  ...  {latitude=40.8161, longitude=-73.9022}\n",
              "2  {utc=2019-01-04T17:00:00.000Z, local=2019-01-0...  ...   {latitude=40.868, longitude=-73.8782}\n",
              "3  {utc=2019-01-04T17:00:00.000Z, local=2019-01-0...  ...  {latitude=40.6944, longitude=-73.9286}\n",
              "4  {utc=2019-01-04T17:00:00.000Z, local=2019-01-0...  ...  {latitude=40.7447, longitude=-73.5869}\n",
              "\n",
              "[5 rows x 6 columns]"
            ]
          },
          "metadata": {
            "tags": []
          },
          "execution_count": 7
        }
      ]
    },
    {
      "cell_type": "code",
      "metadata": {
        "id": "oeA2wXv_VcdN",
        "colab_type": "code",
        "colab": {
          "base_uri": "https://localhost:8080/",
          "height": 197
        },
        "outputId": "61898947-16fc-424f-e722-920daf5d5301"
      },
      "source": [
        "df.head()"
      ],
      "execution_count": null,
      "outputs": [
        {
          "output_type": "execute_result",
          "data": {
            "text/html": [
              "<div>\n",
              "<style scoped>\n",
              "    .dataframe tbody tr th:only-of-type {\n",
              "        vertical-align: middle;\n",
              "    }\n",
              "\n",
              "    .dataframe tbody tr th {\n",
              "        vertical-align: top;\n",
              "    }\n",
              "\n",
              "    .dataframe thead th {\n",
              "        text-align: right;\n",
              "    }\n",
              "</style>\n",
              "<table border=\"1\" class=\"dataframe\">\n",
              "  <thead>\n",
              "    <tr style=\"text-align: right;\">\n",
              "      <th></th>\n",
              "      <th>date</th>\n",
              "      <th>parameter</th>\n",
              "      <th>location</th>\n",
              "      <th>value</th>\n",
              "      <th>unit</th>\n",
              "      <th>coordinates</th>\n",
              "    </tr>\n",
              "  </thead>\n",
              "  <tbody>\n",
              "    <tr>\n",
              "      <th>0</th>\n",
              "      <td>{utc=2019-01-04T17:00:00.000Z, local=2019-01-0...</td>\n",
              "      <td>o3</td>\n",
              "      <td>Bronx - IS52</td>\n",
              "      <td>0.011</td>\n",
              "      <td>ppm</td>\n",
              "      <td>{latitude=40.8161, longitude=-73.9022}</td>\n",
              "    </tr>\n",
              "    <tr>\n",
              "      <th>1</th>\n",
              "      <td>{utc=2019-01-04T17:00:00.000Z, local=2019-01-0...</td>\n",
              "      <td>pm10</td>\n",
              "      <td>Bronx - IS52</td>\n",
              "      <td>28.000</td>\n",
              "      <td>µg/m³</td>\n",
              "      <td>{latitude=40.8161, longitude=-73.9022}</td>\n",
              "    </tr>\n",
              "    <tr>\n",
              "      <th>2</th>\n",
              "      <td>{utc=2019-01-04T17:00:00.000Z, local=2019-01-0...</td>\n",
              "      <td>o3</td>\n",
              "      <td>Pfizer Lab</td>\n",
              "      <td>0.011</td>\n",
              "      <td>ppm</td>\n",
              "      <td>{latitude=40.868, longitude=-73.8782}</td>\n",
              "    </tr>\n",
              "    <tr>\n",
              "      <th>3</th>\n",
              "      <td>{utc=2019-01-04T17:00:00.000Z, local=2019-01-0...</td>\n",
              "      <td>pm25</td>\n",
              "      <td>Bklyn - PS274</td>\n",
              "      <td>12.400</td>\n",
              "      <td>µg/m³</td>\n",
              "      <td>{latitude=40.6944, longitude=-73.9286}</td>\n",
              "    </tr>\n",
              "    <tr>\n",
              "      <th>4</th>\n",
              "      <td>{utc=2019-01-04T17:00:00.000Z, local=2019-01-0...</td>\n",
              "      <td>pm25</td>\n",
              "      <td>Eisenhower Park</td>\n",
              "      <td>11.700</td>\n",
              "      <td>µg/m³</td>\n",
              "      <td>{latitude=40.7447, longitude=-73.5869}</td>\n",
              "    </tr>\n",
              "  </tbody>\n",
              "</table>\n",
              "</div>"
            ],
            "text/plain": [
              "                                                date  ...                             coordinates\n",
              "0  {utc=2019-01-04T17:00:00.000Z, local=2019-01-0...  ...  {latitude=40.8161, longitude=-73.9022}\n",
              "1  {utc=2019-01-04T17:00:00.000Z, local=2019-01-0...  ...  {latitude=40.8161, longitude=-73.9022}\n",
              "2  {utc=2019-01-04T17:00:00.000Z, local=2019-01-0...  ...   {latitude=40.868, longitude=-73.8782}\n",
              "3  {utc=2019-01-04T17:00:00.000Z, local=2019-01-0...  ...  {latitude=40.6944, longitude=-73.9286}\n",
              "4  {utc=2019-01-04T17:00:00.000Z, local=2019-01-0...  ...  {latitude=40.7447, longitude=-73.5869}\n",
              "\n",
              "[5 rows x 6 columns]"
            ]
          },
          "metadata": {
            "tags": []
          },
          "execution_count": 11
        }
      ]
    },
    {
      "cell_type": "code",
      "metadata": {
        "id": "TNOBFZ0cRm0J",
        "colab_type": "code",
        "colab": {
          "base_uri": "https://localhost:8080/",
          "height": 197
        },
        "outputId": "86af2f55-3ce8-4a32-9f17-a6bb2dd9a905"
      },
      "source": [
        "def get_date(data):\n",
        "  data = data.replace('}', '').replace('{', '')\n",
        "  date = data.split(',')[1].split('=')[1].split('-05')[0].replace('T', ' ')\n",
        "  return date\n",
        "  #starttime = datetime.strptime(date, '%Y-%m-%d %H:%M:%S')\n",
        "  #return starttime\n",
        "df['date2'] = df.date.apply(lambda x: get_date(x))\n",
        "df.head()"
      ],
      "execution_count": null,
      "outputs": [
        {
          "output_type": "execute_result",
          "data": {
            "text/html": [
              "<div>\n",
              "<style scoped>\n",
              "    .dataframe tbody tr th:only-of-type {\n",
              "        vertical-align: middle;\n",
              "    }\n",
              "\n",
              "    .dataframe tbody tr th {\n",
              "        vertical-align: top;\n",
              "    }\n",
              "\n",
              "    .dataframe thead th {\n",
              "        text-align: right;\n",
              "    }\n",
              "</style>\n",
              "<table border=\"1\" class=\"dataframe\">\n",
              "  <thead>\n",
              "    <tr style=\"text-align: right;\">\n",
              "      <th></th>\n",
              "      <th>date</th>\n",
              "      <th>parameter</th>\n",
              "      <th>location</th>\n",
              "      <th>value</th>\n",
              "      <th>unit</th>\n",
              "      <th>coordinates</th>\n",
              "      <th>date2</th>\n",
              "    </tr>\n",
              "  </thead>\n",
              "  <tbody>\n",
              "    <tr>\n",
              "      <th>0</th>\n",
              "      <td>{utc=2019-01-04T17:00:00.000Z, local=2019-01-0...</td>\n",
              "      <td>o3</td>\n",
              "      <td>Bronx - IS52</td>\n",
              "      <td>0.011</td>\n",
              "      <td>ppm</td>\n",
              "      <td>{latitude=40.8161, longitude=-73.9022}</td>\n",
              "      <td>2019-01-04 12:00:00</td>\n",
              "    </tr>\n",
              "    <tr>\n",
              "      <th>1</th>\n",
              "      <td>{utc=2019-01-04T17:00:00.000Z, local=2019-01-0...</td>\n",
              "      <td>pm10</td>\n",
              "      <td>Bronx - IS52</td>\n",
              "      <td>28.000</td>\n",
              "      <td>µg/m³</td>\n",
              "      <td>{latitude=40.8161, longitude=-73.9022}</td>\n",
              "      <td>2019-01-04 12:00:00</td>\n",
              "    </tr>\n",
              "    <tr>\n",
              "      <th>2</th>\n",
              "      <td>{utc=2019-01-04T17:00:00.000Z, local=2019-01-0...</td>\n",
              "      <td>o3</td>\n",
              "      <td>Pfizer Lab</td>\n",
              "      <td>0.011</td>\n",
              "      <td>ppm</td>\n",
              "      <td>{latitude=40.868, longitude=-73.8782}</td>\n",
              "      <td>2019-01-04 12:00:00</td>\n",
              "    </tr>\n",
              "    <tr>\n",
              "      <th>3</th>\n",
              "      <td>{utc=2019-01-04T17:00:00.000Z, local=2019-01-0...</td>\n",
              "      <td>pm25</td>\n",
              "      <td>Bklyn - PS274</td>\n",
              "      <td>12.400</td>\n",
              "      <td>µg/m³</td>\n",
              "      <td>{latitude=40.6944, longitude=-73.9286}</td>\n",
              "      <td>2019-01-04 12:00:00</td>\n",
              "    </tr>\n",
              "    <tr>\n",
              "      <th>4</th>\n",
              "      <td>{utc=2019-01-04T17:00:00.000Z, local=2019-01-0...</td>\n",
              "      <td>pm25</td>\n",
              "      <td>Eisenhower Park</td>\n",
              "      <td>11.700</td>\n",
              "      <td>µg/m³</td>\n",
              "      <td>{latitude=40.7447, longitude=-73.5869}</td>\n",
              "      <td>2019-01-04 12:00:00</td>\n",
              "    </tr>\n",
              "  </tbody>\n",
              "</table>\n",
              "</div>"
            ],
            "text/plain": [
              "                                                date  ...                date2\n",
              "0  {utc=2019-01-04T17:00:00.000Z, local=2019-01-0...  ...  2019-01-04 12:00:00\n",
              "1  {utc=2019-01-04T17:00:00.000Z, local=2019-01-0...  ...  2019-01-04 12:00:00\n",
              "2  {utc=2019-01-04T17:00:00.000Z, local=2019-01-0...  ...  2019-01-04 12:00:00\n",
              "3  {utc=2019-01-04T17:00:00.000Z, local=2019-01-0...  ...  2019-01-04 12:00:00\n",
              "4  {utc=2019-01-04T17:00:00.000Z, local=2019-01-0...  ...  2019-01-04 12:00:00\n",
              "\n",
              "[5 rows x 7 columns]"
            ]
          },
          "metadata": {
            "tags": []
          },
          "execution_count": 17
        }
      ]
    },
    {
      "cell_type": "code",
      "metadata": {
        "id": "5d4X_QuSVx3d",
        "colab_type": "code",
        "colab": {}
      },
      "source": [
        "df['date'] = df['date2']\n",
        "df = df[['date', 'parameter', 'location', 'value', 'unit', 'coordinates']]"
      ],
      "execution_count": null,
      "outputs": []
    },
    {
      "cell_type": "code",
      "metadata": {
        "id": "pqsu2tzvWCVk",
        "colab_type": "code",
        "colab": {
          "base_uri": "https://localhost:8080/",
          "height": 197
        },
        "outputId": "eb1dd4a3-1012-4255-b26d-8e5532b34343"
      },
      "source": [
        "df.head()"
      ],
      "execution_count": null,
      "outputs": [
        {
          "output_type": "execute_result",
          "data": {
            "text/html": [
              "<div>\n",
              "<style scoped>\n",
              "    .dataframe tbody tr th:only-of-type {\n",
              "        vertical-align: middle;\n",
              "    }\n",
              "\n",
              "    .dataframe tbody tr th {\n",
              "        vertical-align: top;\n",
              "    }\n",
              "\n",
              "    .dataframe thead th {\n",
              "        text-align: right;\n",
              "    }\n",
              "</style>\n",
              "<table border=\"1\" class=\"dataframe\">\n",
              "  <thead>\n",
              "    <tr style=\"text-align: right;\">\n",
              "      <th></th>\n",
              "      <th>date</th>\n",
              "      <th>parameter</th>\n",
              "      <th>location</th>\n",
              "      <th>value</th>\n",
              "      <th>unit</th>\n",
              "      <th>coordinates</th>\n",
              "    </tr>\n",
              "  </thead>\n",
              "  <tbody>\n",
              "    <tr>\n",
              "      <th>0</th>\n",
              "      <td>2019-01-04 12:00:00</td>\n",
              "      <td>o3</td>\n",
              "      <td>Bronx - IS52</td>\n",
              "      <td>0.011</td>\n",
              "      <td>ppm</td>\n",
              "      <td>{latitude=40.8161, longitude=-73.9022}</td>\n",
              "    </tr>\n",
              "    <tr>\n",
              "      <th>1</th>\n",
              "      <td>2019-01-04 12:00:00</td>\n",
              "      <td>pm10</td>\n",
              "      <td>Bronx - IS52</td>\n",
              "      <td>28.000</td>\n",
              "      <td>µg/m³</td>\n",
              "      <td>{latitude=40.8161, longitude=-73.9022}</td>\n",
              "    </tr>\n",
              "    <tr>\n",
              "      <th>2</th>\n",
              "      <td>2019-01-04 12:00:00</td>\n",
              "      <td>o3</td>\n",
              "      <td>Pfizer Lab</td>\n",
              "      <td>0.011</td>\n",
              "      <td>ppm</td>\n",
              "      <td>{latitude=40.868, longitude=-73.8782}</td>\n",
              "    </tr>\n",
              "    <tr>\n",
              "      <th>3</th>\n",
              "      <td>2019-01-04 12:00:00</td>\n",
              "      <td>pm25</td>\n",
              "      <td>Bklyn - PS274</td>\n",
              "      <td>12.400</td>\n",
              "      <td>µg/m³</td>\n",
              "      <td>{latitude=40.6944, longitude=-73.9286}</td>\n",
              "    </tr>\n",
              "    <tr>\n",
              "      <th>4</th>\n",
              "      <td>2019-01-04 12:00:00</td>\n",
              "      <td>pm25</td>\n",
              "      <td>Eisenhower Park</td>\n",
              "      <td>11.700</td>\n",
              "      <td>µg/m³</td>\n",
              "      <td>{latitude=40.7447, longitude=-73.5869}</td>\n",
              "    </tr>\n",
              "  </tbody>\n",
              "</table>\n",
              "</div>"
            ],
            "text/plain": [
              "                  date parameter  ...   unit                             coordinates\n",
              "0  2019-01-04 12:00:00        o3  ...    ppm  {latitude=40.8161, longitude=-73.9022}\n",
              "1  2019-01-04 12:00:00      pm10  ...  µg/m³  {latitude=40.8161, longitude=-73.9022}\n",
              "2  2019-01-04 12:00:00        o3  ...    ppm   {latitude=40.868, longitude=-73.8782}\n",
              "3  2019-01-04 12:00:00      pm25  ...  µg/m³  {latitude=40.6944, longitude=-73.9286}\n",
              "4  2019-01-04 12:00:00      pm25  ...  µg/m³  {latitude=40.7447, longitude=-73.5869}\n",
              "\n",
              "[5 rows x 6 columns]"
            ]
          },
          "metadata": {
            "tags": []
          },
          "execution_count": 19
        }
      ]
    },
    {
      "cell_type": "code",
      "metadata": {
        "id": "RtP0XulSWFgL",
        "colab_type": "code",
        "colab": {
          "base_uri": "https://localhost:8080/",
          "height": 247
        },
        "outputId": "061987cb-fc57-4d0e-9825-4d240bd5d8a7"
      },
      "source": [
        "df.info()"
      ],
      "execution_count": null,
      "outputs": [
        {
          "output_type": "stream",
          "text": [
            "<class 'pandas.core.frame.DataFrame'>\n",
            "RangeIndex: 30739 entries, 0 to 30738\n",
            "Data columns (total 6 columns):\n",
            " #   Column       Non-Null Count  Dtype  \n",
            "---  ------       --------------  -----  \n",
            " 0   date         30739 non-null  object \n",
            " 1   parameter    30739 non-null  object \n",
            " 2   location     30739 non-null  object \n",
            " 3   value        30739 non-null  float64\n",
            " 4   unit         30739 non-null  object \n",
            " 5   coordinates  30739 non-null  object \n",
            "dtypes: float64(1), object(5)\n",
            "memory usage: 1.4+ MB\n"
          ],
          "name": "stdout"
        }
      ]
    },
    {
      "cell_type": "code",
      "metadata": {
        "id": "-jSHaODbW3C5",
        "colab_type": "code",
        "colab": {
          "base_uri": "https://localhost:8080/",
          "height": 197
        },
        "outputId": "a1a70040-5c33-4590-eda5-95b7bdc1a9c9"
      },
      "source": [
        "def get_lat(data):\n",
        "  data = data.replace('}', '').replace('{', '')\n",
        "  return float(data.split(',')[0].split('=')[1])\n",
        "def get_lon(data):\n",
        "  data = data.replace('}', '').replace('{', '')\n",
        "  return float(data.split(',')[1].split('=')[1])\n",
        "df['lat'] = df.coordinates.apply(lambda x: get_lat(x))\n",
        "df['lon'] = df.coordinates.apply(lambda x: get_lon(x))\n",
        "df.head()"
      ],
      "execution_count": null,
      "outputs": [
        {
          "output_type": "execute_result",
          "data": {
            "text/html": [
              "<div>\n",
              "<style scoped>\n",
              "    .dataframe tbody tr th:only-of-type {\n",
              "        vertical-align: middle;\n",
              "    }\n",
              "\n",
              "    .dataframe tbody tr th {\n",
              "        vertical-align: top;\n",
              "    }\n",
              "\n",
              "    .dataframe thead th {\n",
              "        text-align: right;\n",
              "    }\n",
              "</style>\n",
              "<table border=\"1\" class=\"dataframe\">\n",
              "  <thead>\n",
              "    <tr style=\"text-align: right;\">\n",
              "      <th></th>\n",
              "      <th>date</th>\n",
              "      <th>parameter</th>\n",
              "      <th>location</th>\n",
              "      <th>value</th>\n",
              "      <th>unit</th>\n",
              "      <th>coordinates</th>\n",
              "      <th>lat</th>\n",
              "      <th>lon</th>\n",
              "    </tr>\n",
              "  </thead>\n",
              "  <tbody>\n",
              "    <tr>\n",
              "      <th>0</th>\n",
              "      <td>2019-01-04 12:00:00</td>\n",
              "      <td>o3</td>\n",
              "      <td>Bronx - IS52</td>\n",
              "      <td>0.011</td>\n",
              "      <td>ppm</td>\n",
              "      <td>{latitude=40.8161, longitude=-73.9022}</td>\n",
              "      <td>40.8161</td>\n",
              "      <td>-73.9022</td>\n",
              "    </tr>\n",
              "    <tr>\n",
              "      <th>1</th>\n",
              "      <td>2019-01-04 12:00:00</td>\n",
              "      <td>pm10</td>\n",
              "      <td>Bronx - IS52</td>\n",
              "      <td>28.000</td>\n",
              "      <td>µg/m³</td>\n",
              "      <td>{latitude=40.8161, longitude=-73.9022}</td>\n",
              "      <td>40.8161</td>\n",
              "      <td>-73.9022</td>\n",
              "    </tr>\n",
              "    <tr>\n",
              "      <th>2</th>\n",
              "      <td>2019-01-04 12:00:00</td>\n",
              "      <td>o3</td>\n",
              "      <td>Pfizer Lab</td>\n",
              "      <td>0.011</td>\n",
              "      <td>ppm</td>\n",
              "      <td>{latitude=40.868, longitude=-73.8782}</td>\n",
              "      <td>40.8680</td>\n",
              "      <td>-73.8782</td>\n",
              "    </tr>\n",
              "    <tr>\n",
              "      <th>3</th>\n",
              "      <td>2019-01-04 12:00:00</td>\n",
              "      <td>pm25</td>\n",
              "      <td>Bklyn - PS274</td>\n",
              "      <td>12.400</td>\n",
              "      <td>µg/m³</td>\n",
              "      <td>{latitude=40.6944, longitude=-73.9286}</td>\n",
              "      <td>40.6944</td>\n",
              "      <td>-73.9286</td>\n",
              "    </tr>\n",
              "    <tr>\n",
              "      <th>4</th>\n",
              "      <td>2019-01-04 12:00:00</td>\n",
              "      <td>pm25</td>\n",
              "      <td>Eisenhower Park</td>\n",
              "      <td>11.700</td>\n",
              "      <td>µg/m³</td>\n",
              "      <td>{latitude=40.7447, longitude=-73.5869}</td>\n",
              "      <td>40.7447</td>\n",
              "      <td>-73.5869</td>\n",
              "    </tr>\n",
              "  </tbody>\n",
              "</table>\n",
              "</div>"
            ],
            "text/plain": [
              "                  date parameter  ...      lat      lon\n",
              "0  2019-01-04 12:00:00        o3  ...  40.8161 -73.9022\n",
              "1  2019-01-04 12:00:00      pm10  ...  40.8161 -73.9022\n",
              "2  2019-01-04 12:00:00        o3  ...  40.8680 -73.8782\n",
              "3  2019-01-04 12:00:00      pm25  ...  40.6944 -73.9286\n",
              "4  2019-01-04 12:00:00      pm25  ...  40.7447 -73.5869\n",
              "\n",
              "[5 rows x 8 columns]"
            ]
          },
          "metadata": {
            "tags": []
          },
          "execution_count": 21
        }
      ]
    },
    {
      "cell_type": "code",
      "metadata": {
        "id": "xyHHt4YwX0O-",
        "colab_type": "code",
        "colab": {
          "base_uri": "https://localhost:8080/",
          "height": 197
        },
        "outputId": "73757122-fbb2-41f4-c002-ac51c582bdda"
      },
      "source": [
        "df = df[['date', 'parameter', 'location', 'value', 'unit',  'lat', 'lon']]\n",
        "df.head()"
      ],
      "execution_count": null,
      "outputs": [
        {
          "output_type": "execute_result",
          "data": {
            "text/html": [
              "<div>\n",
              "<style scoped>\n",
              "    .dataframe tbody tr th:only-of-type {\n",
              "        vertical-align: middle;\n",
              "    }\n",
              "\n",
              "    .dataframe tbody tr th {\n",
              "        vertical-align: top;\n",
              "    }\n",
              "\n",
              "    .dataframe thead th {\n",
              "        text-align: right;\n",
              "    }\n",
              "</style>\n",
              "<table border=\"1\" class=\"dataframe\">\n",
              "  <thead>\n",
              "    <tr style=\"text-align: right;\">\n",
              "      <th></th>\n",
              "      <th>date</th>\n",
              "      <th>parameter</th>\n",
              "      <th>location</th>\n",
              "      <th>value</th>\n",
              "      <th>unit</th>\n",
              "      <th>lat</th>\n",
              "      <th>lon</th>\n",
              "    </tr>\n",
              "  </thead>\n",
              "  <tbody>\n",
              "    <tr>\n",
              "      <th>0</th>\n",
              "      <td>2019-01-04 12:00:00</td>\n",
              "      <td>o3</td>\n",
              "      <td>Bronx - IS52</td>\n",
              "      <td>0.011</td>\n",
              "      <td>ppm</td>\n",
              "      <td>40.8161</td>\n",
              "      <td>-73.9022</td>\n",
              "    </tr>\n",
              "    <tr>\n",
              "      <th>1</th>\n",
              "      <td>2019-01-04 12:00:00</td>\n",
              "      <td>pm10</td>\n",
              "      <td>Bronx - IS52</td>\n",
              "      <td>28.000</td>\n",
              "      <td>µg/m³</td>\n",
              "      <td>40.8161</td>\n",
              "      <td>-73.9022</td>\n",
              "    </tr>\n",
              "    <tr>\n",
              "      <th>2</th>\n",
              "      <td>2019-01-04 12:00:00</td>\n",
              "      <td>o3</td>\n",
              "      <td>Pfizer Lab</td>\n",
              "      <td>0.011</td>\n",
              "      <td>ppm</td>\n",
              "      <td>40.8680</td>\n",
              "      <td>-73.8782</td>\n",
              "    </tr>\n",
              "    <tr>\n",
              "      <th>3</th>\n",
              "      <td>2019-01-04 12:00:00</td>\n",
              "      <td>pm25</td>\n",
              "      <td>Bklyn - PS274</td>\n",
              "      <td>12.400</td>\n",
              "      <td>µg/m³</td>\n",
              "      <td>40.6944</td>\n",
              "      <td>-73.9286</td>\n",
              "    </tr>\n",
              "    <tr>\n",
              "      <th>4</th>\n",
              "      <td>2019-01-04 12:00:00</td>\n",
              "      <td>pm25</td>\n",
              "      <td>Eisenhower Park</td>\n",
              "      <td>11.700</td>\n",
              "      <td>µg/m³</td>\n",
              "      <td>40.7447</td>\n",
              "      <td>-73.5869</td>\n",
              "    </tr>\n",
              "  </tbody>\n",
              "</table>\n",
              "</div>"
            ],
            "text/plain": [
              "                  date parameter         location  ...   unit      lat      lon\n",
              "0  2019-01-04 12:00:00        o3     Bronx - IS52  ...    ppm  40.8161 -73.9022\n",
              "1  2019-01-04 12:00:00      pm10     Bronx - IS52  ...  µg/m³  40.8161 -73.9022\n",
              "2  2019-01-04 12:00:00        o3       Pfizer Lab  ...    ppm  40.8680 -73.8782\n",
              "3  2019-01-04 12:00:00      pm25    Bklyn - PS274  ...  µg/m³  40.6944 -73.9286\n",
              "4  2019-01-04 12:00:00      pm25  Eisenhower Park  ...  µg/m³  40.7447 -73.5869\n",
              "\n",
              "[5 rows x 7 columns]"
            ]
          },
          "metadata": {
            "tags": []
          },
          "execution_count": 22
        }
      ]
    },
    {
      "cell_type": "code",
      "metadata": {
        "id": "Da3C8N03YVWl",
        "colab_type": "code",
        "colab": {
          "base_uri": "https://localhost:8080/",
          "height": 34
        },
        "outputId": "9b3abe3b-f6f9-4df2-86d8-671ded6484d2"
      },
      "source": [
        "df.shape"
      ],
      "execution_count": null,
      "outputs": [
        {
          "output_type": "execute_result",
          "data": {
            "text/plain": [
              "(30739, 7)"
            ]
          },
          "metadata": {
            "tags": []
          },
          "execution_count": 23
        }
      ]
    },
    {
      "cell_type": "code",
      "metadata": {
        "id": "fdr0I5D01m3O",
        "colab_type": "code",
        "colab": {
          "base_uri": "https://localhost:8080/",
          "height": 478
        },
        "outputId": "978f9e43-d610-4527-ff82-bc8d09cc3caf"
      },
      "source": [
        "df.location.value_counts()"
      ],
      "execution_count": null,
      "outputs": [
        {
          "output_type": "execute_result",
          "data": {
            "text/plain": [
              "Newark Firehouse      3217\n",
              "Elizabeth Trailer     2537\n",
              "Chester               1939\n",
              "Bayonne               1936\n",
              "Jersey City           1916\n",
              "Fort Lee Near Road    1889\n",
              "Rutgers University    1798\n",
              "Bronx - IS52          1392\n",
              "CCNY                  1389\n",
              "White Plains          1388\n",
              "Holtsville            1384\n",
              "Flemington            1316\n",
              "Queens                1258\n",
              "Eisenhower Park        702\n",
              "Manhattan/IS143        700\n",
              "Maspeth                700\n",
              "Bklyn - PS274          697\n",
              "Pfizer Lab             695\n",
              "Mt Ninham              686\n",
              "Fresh Kills            676\n",
              "Babylon                607\n",
              "Jersey City FH         604\n",
              "Queens Near-road       497\n",
              "Division Street        475\n",
              "Rahway PM              341\n",
              "Name: location, dtype: int64"
            ]
          },
          "metadata": {
            "tags": []
          },
          "execution_count": 24
        }
      ]
    },
    {
      "cell_type": "code",
      "metadata": {
        "id": "pQqXqKHd1w6H",
        "colab_type": "code",
        "colab": {
          "base_uri": "https://localhost:8080/",
          "height": 197
        },
        "outputId": "8d219b87-b0a2-4386-a6ef-43f6918d78a5"
      },
      "source": [
        "df_queens = df[df.location=='Queens']\n",
        "df_queens.head()"
      ],
      "execution_count": null,
      "outputs": [
        {
          "output_type": "execute_result",
          "data": {
            "text/html": [
              "<div>\n",
              "<style scoped>\n",
              "    .dataframe tbody tr th:only-of-type {\n",
              "        vertical-align: middle;\n",
              "    }\n",
              "\n",
              "    .dataframe tbody tr th {\n",
              "        vertical-align: top;\n",
              "    }\n",
              "\n",
              "    .dataframe thead th {\n",
              "        text-align: right;\n",
              "    }\n",
              "</style>\n",
              "<table border=\"1\" class=\"dataframe\">\n",
              "  <thead>\n",
              "    <tr style=\"text-align: right;\">\n",
              "      <th></th>\n",
              "      <th>date</th>\n",
              "      <th>parameter</th>\n",
              "      <th>location</th>\n",
              "      <th>value</th>\n",
              "      <th>unit</th>\n",
              "      <th>lat</th>\n",
              "      <th>lon</th>\n",
              "    </tr>\n",
              "  </thead>\n",
              "  <tbody>\n",
              "    <tr>\n",
              "      <th>9</th>\n",
              "      <td>2019-01-04 12:00:00</td>\n",
              "      <td>o3</td>\n",
              "      <td>Queens</td>\n",
              "      <td>0.013</td>\n",
              "      <td>ppm</td>\n",
              "      <td>40.7375</td>\n",
              "      <td>-73.8244</td>\n",
              "    </tr>\n",
              "    <tr>\n",
              "      <th>10</th>\n",
              "      <td>2019-01-04 12:00:00</td>\n",
              "      <td>pm25</td>\n",
              "      <td>Queens</td>\n",
              "      <td>13.400</td>\n",
              "      <td>µg/m³</td>\n",
              "      <td>40.7375</td>\n",
              "      <td>-73.8244</td>\n",
              "    </tr>\n",
              "    <tr>\n",
              "      <th>26</th>\n",
              "      <td>2019-01-02 15:00:00</td>\n",
              "      <td>o3</td>\n",
              "      <td>Queens</td>\n",
              "      <td>0.014</td>\n",
              "      <td>ppm</td>\n",
              "      <td>40.7375</td>\n",
              "      <td>-73.8244</td>\n",
              "    </tr>\n",
              "    <tr>\n",
              "      <th>27</th>\n",
              "      <td>2019-01-02 15:00:00</td>\n",
              "      <td>pm25</td>\n",
              "      <td>Queens</td>\n",
              "      <td>5.800</td>\n",
              "      <td>µg/m³</td>\n",
              "      <td>40.7375</td>\n",
              "      <td>-73.8244</td>\n",
              "    </tr>\n",
              "    <tr>\n",
              "      <th>99</th>\n",
              "      <td>2019-01</td>\n",
              "      <td>o3</td>\n",
              "      <td>Queens</td>\n",
              "      <td>0.012</td>\n",
              "      <td>ppm</td>\n",
              "      <td>40.7375</td>\n",
              "      <td>-73.8244</td>\n",
              "    </tr>\n",
              "  </tbody>\n",
              "</table>\n",
              "</div>"
            ],
            "text/plain": [
              "                   date parameter location   value   unit      lat      lon\n",
              "9   2019-01-04 12:00:00        o3   Queens   0.013    ppm  40.7375 -73.8244\n",
              "10  2019-01-04 12:00:00      pm25   Queens  13.400  µg/m³  40.7375 -73.8244\n",
              "26  2019-01-02 15:00:00        o3   Queens   0.014    ppm  40.7375 -73.8244\n",
              "27  2019-01-02 15:00:00      pm25   Queens   5.800  µg/m³  40.7375 -73.8244\n",
              "99              2019-01        o3   Queens   0.012    ppm  40.7375 -73.8244"
            ]
          },
          "metadata": {
            "tags": []
          },
          "execution_count": 25
        }
      ]
    },
    {
      "cell_type": "code",
      "metadata": {
        "id": "fXKIFw1I17eb",
        "colab_type": "code",
        "colab": {
          "base_uri": "https://localhost:8080/",
          "height": 197
        },
        "outputId": "08649752-0a84-4272-b1ea-15e01e7eec12"
      },
      "source": [
        "df_queens = df_queens[df_queens.date != '2019-01']\n",
        "df_queens.head()"
      ],
      "execution_count": null,
      "outputs": [
        {
          "output_type": "execute_result",
          "data": {
            "text/html": [
              "<div>\n",
              "<style scoped>\n",
              "    .dataframe tbody tr th:only-of-type {\n",
              "        vertical-align: middle;\n",
              "    }\n",
              "\n",
              "    .dataframe tbody tr th {\n",
              "        vertical-align: top;\n",
              "    }\n",
              "\n",
              "    .dataframe thead th {\n",
              "        text-align: right;\n",
              "    }\n",
              "</style>\n",
              "<table border=\"1\" class=\"dataframe\">\n",
              "  <thead>\n",
              "    <tr style=\"text-align: right;\">\n",
              "      <th></th>\n",
              "      <th>date</th>\n",
              "      <th>parameter</th>\n",
              "      <th>location</th>\n",
              "      <th>value</th>\n",
              "      <th>unit</th>\n",
              "      <th>lat</th>\n",
              "      <th>lon</th>\n",
              "    </tr>\n",
              "  </thead>\n",
              "  <tbody>\n",
              "    <tr>\n",
              "      <th>9</th>\n",
              "      <td>2019-01-04 12:00:00</td>\n",
              "      <td>o3</td>\n",
              "      <td>Queens</td>\n",
              "      <td>0.013</td>\n",
              "      <td>ppm</td>\n",
              "      <td>40.7375</td>\n",
              "      <td>-73.8244</td>\n",
              "    </tr>\n",
              "    <tr>\n",
              "      <th>10</th>\n",
              "      <td>2019-01-04 12:00:00</td>\n",
              "      <td>pm25</td>\n",
              "      <td>Queens</td>\n",
              "      <td>13.400</td>\n",
              "      <td>µg/m³</td>\n",
              "      <td>40.7375</td>\n",
              "      <td>-73.8244</td>\n",
              "    </tr>\n",
              "    <tr>\n",
              "      <th>26</th>\n",
              "      <td>2019-01-02 15:00:00</td>\n",
              "      <td>o3</td>\n",
              "      <td>Queens</td>\n",
              "      <td>0.014</td>\n",
              "      <td>ppm</td>\n",
              "      <td>40.7375</td>\n",
              "      <td>-73.8244</td>\n",
              "    </tr>\n",
              "    <tr>\n",
              "      <th>27</th>\n",
              "      <td>2019-01-02 15:00:00</td>\n",
              "      <td>pm25</td>\n",
              "      <td>Queens</td>\n",
              "      <td>5.800</td>\n",
              "      <td>µg/m³</td>\n",
              "      <td>40.7375</td>\n",
              "      <td>-73.8244</td>\n",
              "    </tr>\n",
              "    <tr>\n",
              "      <th>133</th>\n",
              "      <td>2019-01-04 09:00:00</td>\n",
              "      <td>o3</td>\n",
              "      <td>Queens</td>\n",
              "      <td>0.007</td>\n",
              "      <td>ppm</td>\n",
              "      <td>40.7375</td>\n",
              "      <td>-73.8244</td>\n",
              "    </tr>\n",
              "  </tbody>\n",
              "</table>\n",
              "</div>"
            ],
            "text/plain": [
              "                    date parameter location   value   unit      lat      lon\n",
              "9    2019-01-04 12:00:00        o3   Queens   0.013    ppm  40.7375 -73.8244\n",
              "10   2019-01-04 12:00:00      pm25   Queens  13.400  µg/m³  40.7375 -73.8244\n",
              "26   2019-01-02 15:00:00        o3   Queens   0.014    ppm  40.7375 -73.8244\n",
              "27   2019-01-02 15:00:00      pm25   Queens   5.800  µg/m³  40.7375 -73.8244\n",
              "133  2019-01-04 09:00:00        o3   Queens   0.007    ppm  40.7375 -73.8244"
            ]
          },
          "metadata": {
            "tags": []
          },
          "execution_count": 32
        }
      ]
    },
    {
      "cell_type": "code",
      "metadata": {
        "id": "dthNTmZ02oHU",
        "colab_type": "code",
        "colab": {
          "base_uri": "https://localhost:8080/",
          "height": 34
        },
        "outputId": "a0ec65fb-8ed5-4b5a-fd00-e52f982f0b88"
      },
      "source": [
        "df_queens.shape"
      ],
      "execution_count": null,
      "outputs": [
        {
          "output_type": "execute_result",
          "data": {
            "text/plain": [
              "(1210, 7)"
            ]
          },
          "metadata": {
            "tags": []
          },
          "execution_count": 33
        }
      ]
    },
    {
      "cell_type": "code",
      "metadata": {
        "id": "rNZqOUS72r-O",
        "colab_type": "code",
        "colab": {
          "base_uri": "https://localhost:8080/",
          "height": 70
        },
        "outputId": "1d3961cf-e8b9-456d-e44a-558420b2d267"
      },
      "source": [
        "df_queens.parameter.value_counts()"
      ],
      "execution_count": null,
      "outputs": [
        {
          "output_type": "execute_result",
          "data": {
            "text/plain": [
              "o3      611\n",
              "pm25    599\n",
              "Name: parameter, dtype: int64"
            ]
          },
          "metadata": {
            "tags": []
          },
          "execution_count": 34
        }
      ]
    },
    {
      "cell_type": "code",
      "metadata": {
        "id": "ptgs5gJs20Ve",
        "colab_type": "code",
        "colab": {
          "base_uri": "https://localhost:8080/",
          "height": 197
        },
        "outputId": "22e98bba-930b-44da-d9e2-c2c32f077eb2"
      },
      "source": [
        "queenso3 = df_queens[df_queens.parameter == 'o3']\n",
        "queenso3.head()"
      ],
      "execution_count": null,
      "outputs": [
        {
          "output_type": "execute_result",
          "data": {
            "text/html": [
              "<div>\n",
              "<style scoped>\n",
              "    .dataframe tbody tr th:only-of-type {\n",
              "        vertical-align: middle;\n",
              "    }\n",
              "\n",
              "    .dataframe tbody tr th {\n",
              "        vertical-align: top;\n",
              "    }\n",
              "\n",
              "    .dataframe thead th {\n",
              "        text-align: right;\n",
              "    }\n",
              "</style>\n",
              "<table border=\"1\" class=\"dataframe\">\n",
              "  <thead>\n",
              "    <tr style=\"text-align: right;\">\n",
              "      <th></th>\n",
              "      <th>date</th>\n",
              "      <th>parameter</th>\n",
              "      <th>location</th>\n",
              "      <th>value</th>\n",
              "      <th>unit</th>\n",
              "      <th>lat</th>\n",
              "      <th>lon</th>\n",
              "    </tr>\n",
              "  </thead>\n",
              "  <tbody>\n",
              "    <tr>\n",
              "      <th>9</th>\n",
              "      <td>2019-01-04 12:00:00</td>\n",
              "      <td>o3</td>\n",
              "      <td>Queens</td>\n",
              "      <td>0.013</td>\n",
              "      <td>ppm</td>\n",
              "      <td>40.7375</td>\n",
              "      <td>-73.8244</td>\n",
              "    </tr>\n",
              "    <tr>\n",
              "      <th>26</th>\n",
              "      <td>2019-01-02 15:00:00</td>\n",
              "      <td>o3</td>\n",
              "      <td>Queens</td>\n",
              "      <td>0.014</td>\n",
              "      <td>ppm</td>\n",
              "      <td>40.7375</td>\n",
              "      <td>-73.8244</td>\n",
              "    </tr>\n",
              "    <tr>\n",
              "      <th>133</th>\n",
              "      <td>2019-01-04 09:00:00</td>\n",
              "      <td>o3</td>\n",
              "      <td>Queens</td>\n",
              "      <td>0.007</td>\n",
              "      <td>ppm</td>\n",
              "      <td>40.7375</td>\n",
              "      <td>-73.8244</td>\n",
              "    </tr>\n",
              "    <tr>\n",
              "      <th>254</th>\n",
              "      <td>2019-01-02 09:00:00</td>\n",
              "      <td>o3</td>\n",
              "      <td>Queens</td>\n",
              "      <td>0.020</td>\n",
              "      <td>ppm</td>\n",
              "      <td>40.7375</td>\n",
              "      <td>-73.8244</td>\n",
              "    </tr>\n",
              "    <tr>\n",
              "      <th>272</th>\n",
              "      <td>2019-01-06 09:00:00</td>\n",
              "      <td>o3</td>\n",
              "      <td>Queens</td>\n",
              "      <td>0.008</td>\n",
              "      <td>ppm</td>\n",
              "      <td>40.7375</td>\n",
              "      <td>-73.8244</td>\n",
              "    </tr>\n",
              "  </tbody>\n",
              "</table>\n",
              "</div>"
            ],
            "text/plain": [
              "                    date parameter location  value unit      lat      lon\n",
              "9    2019-01-04 12:00:00        o3   Queens  0.013  ppm  40.7375 -73.8244\n",
              "26   2019-01-02 15:00:00        o3   Queens  0.014  ppm  40.7375 -73.8244\n",
              "133  2019-01-04 09:00:00        o3   Queens  0.007  ppm  40.7375 -73.8244\n",
              "254  2019-01-02 09:00:00        o3   Queens  0.020  ppm  40.7375 -73.8244\n",
              "272  2019-01-06 09:00:00        o3   Queens  0.008  ppm  40.7375 -73.8244"
            ]
          },
          "metadata": {
            "tags": []
          },
          "execution_count": 35
        }
      ]
    },
    {
      "cell_type": "code",
      "metadata": {
        "id": "XsW1ubvE3CVm",
        "colab_type": "code",
        "colab": {
          "base_uri": "https://localhost:8080/",
          "height": 411
        },
        "outputId": "ed1362f4-2620-4230-8bca-c166b2311b0d"
      },
      "source": [
        "def get_day(date):\n",
        "  return date.split(' ')[0].replace('2019-01-','')\n",
        "def get_hour(date):\n",
        "  return date.split(' ')[1]\n",
        "queenso3['day'] = queenso3.date.apply(lambda x: get_day(x))\n",
        "queenso3['hour'] = queenso3.date.apply(lambda x: get_hour(x))\n",
        "queenso3.head()"
      ],
      "execution_count": null,
      "outputs": [
        {
          "output_type": "stream",
          "text": [
            "/usr/local/lib/python3.6/dist-packages/ipykernel_launcher.py:5: SettingWithCopyWarning: \n",
            "A value is trying to be set on a copy of a slice from a DataFrame.\n",
            "Try using .loc[row_indexer,col_indexer] = value instead\n",
            "\n",
            "See the caveats in the documentation: https://pandas.pydata.org/pandas-docs/stable/user_guide/indexing.html#returning-a-view-versus-a-copy\n",
            "  \"\"\"\n",
            "/usr/local/lib/python3.6/dist-packages/ipykernel_launcher.py:6: SettingWithCopyWarning: \n",
            "A value is trying to be set on a copy of a slice from a DataFrame.\n",
            "Try using .loc[row_indexer,col_indexer] = value instead\n",
            "\n",
            "See the caveats in the documentation: https://pandas.pydata.org/pandas-docs/stable/user_guide/indexing.html#returning-a-view-versus-a-copy\n",
            "  \n"
          ],
          "name": "stderr"
        },
        {
          "output_type": "execute_result",
          "data": {
            "text/html": [
              "<div>\n",
              "<style scoped>\n",
              "    .dataframe tbody tr th:only-of-type {\n",
              "        vertical-align: middle;\n",
              "    }\n",
              "\n",
              "    .dataframe tbody tr th {\n",
              "        vertical-align: top;\n",
              "    }\n",
              "\n",
              "    .dataframe thead th {\n",
              "        text-align: right;\n",
              "    }\n",
              "</style>\n",
              "<table border=\"1\" class=\"dataframe\">\n",
              "  <thead>\n",
              "    <tr style=\"text-align: right;\">\n",
              "      <th></th>\n",
              "      <th>date</th>\n",
              "      <th>parameter</th>\n",
              "      <th>location</th>\n",
              "      <th>value</th>\n",
              "      <th>unit</th>\n",
              "      <th>lat</th>\n",
              "      <th>lon</th>\n",
              "      <th>day</th>\n",
              "      <th>hour</th>\n",
              "    </tr>\n",
              "  </thead>\n",
              "  <tbody>\n",
              "    <tr>\n",
              "      <th>9</th>\n",
              "      <td>2019-01-04 12:00:00</td>\n",
              "      <td>o3</td>\n",
              "      <td>Queens</td>\n",
              "      <td>0.013</td>\n",
              "      <td>ppm</td>\n",
              "      <td>40.7375</td>\n",
              "      <td>-73.8244</td>\n",
              "      <td>04</td>\n",
              "      <td>12:00:00</td>\n",
              "    </tr>\n",
              "    <tr>\n",
              "      <th>26</th>\n",
              "      <td>2019-01-02 15:00:00</td>\n",
              "      <td>o3</td>\n",
              "      <td>Queens</td>\n",
              "      <td>0.014</td>\n",
              "      <td>ppm</td>\n",
              "      <td>40.7375</td>\n",
              "      <td>-73.8244</td>\n",
              "      <td>02</td>\n",
              "      <td>15:00:00</td>\n",
              "    </tr>\n",
              "    <tr>\n",
              "      <th>133</th>\n",
              "      <td>2019-01-04 09:00:00</td>\n",
              "      <td>o3</td>\n",
              "      <td>Queens</td>\n",
              "      <td>0.007</td>\n",
              "      <td>ppm</td>\n",
              "      <td>40.7375</td>\n",
              "      <td>-73.8244</td>\n",
              "      <td>04</td>\n",
              "      <td>09:00:00</td>\n",
              "    </tr>\n",
              "    <tr>\n",
              "      <th>254</th>\n",
              "      <td>2019-01-02 09:00:00</td>\n",
              "      <td>o3</td>\n",
              "      <td>Queens</td>\n",
              "      <td>0.020</td>\n",
              "      <td>ppm</td>\n",
              "      <td>40.7375</td>\n",
              "      <td>-73.8244</td>\n",
              "      <td>02</td>\n",
              "      <td>09:00:00</td>\n",
              "    </tr>\n",
              "    <tr>\n",
              "      <th>272</th>\n",
              "      <td>2019-01-06 09:00:00</td>\n",
              "      <td>o3</td>\n",
              "      <td>Queens</td>\n",
              "      <td>0.008</td>\n",
              "      <td>ppm</td>\n",
              "      <td>40.7375</td>\n",
              "      <td>-73.8244</td>\n",
              "      <td>06</td>\n",
              "      <td>09:00:00</td>\n",
              "    </tr>\n",
              "  </tbody>\n",
              "</table>\n",
              "</div>"
            ],
            "text/plain": [
              "                    date parameter location  ...      lon day      hour\n",
              "9    2019-01-04 12:00:00        o3   Queens  ... -73.8244  04  12:00:00\n",
              "26   2019-01-02 15:00:00        o3   Queens  ... -73.8244  02  15:00:00\n",
              "133  2019-01-04 09:00:00        o3   Queens  ... -73.8244  04  09:00:00\n",
              "254  2019-01-02 09:00:00        o3   Queens  ... -73.8244  02  09:00:00\n",
              "272  2019-01-06 09:00:00        o3   Queens  ... -73.8244  06  09:00:00\n",
              "\n",
              "[5 rows x 9 columns]"
            ]
          },
          "metadata": {
            "tags": []
          },
          "execution_count": 74
        }
      ]
    },
    {
      "cell_type": "code",
      "metadata": {
        "id": "3hWy3NbV4DR6",
        "colab_type": "code",
        "colab": {
          "base_uri": "https://localhost:8080/",
          "height": 227
        },
        "outputId": "59b5ae76-da65-484d-b428-e34696ca0588"
      },
      "source": [
        "qo3 = queenso3.groupby('day').agg({\"value\": \"mean\"})\n",
        "qo3 = pd.DataFrame(qo3)\n",
        "qo3.head()"
      ],
      "execution_count": null,
      "outputs": [
        {
          "output_type": "execute_result",
          "data": {
            "text/html": [
              "<div>\n",
              "<style scoped>\n",
              "    .dataframe tbody tr th:only-of-type {\n",
              "        vertical-align: middle;\n",
              "    }\n",
              "\n",
              "    .dataframe tbody tr th {\n",
              "        vertical-align: top;\n",
              "    }\n",
              "\n",
              "    .dataframe thead th {\n",
              "        text-align: right;\n",
              "    }\n",
              "</style>\n",
              "<table border=\"1\" class=\"dataframe\">\n",
              "  <thead>\n",
              "    <tr style=\"text-align: right;\">\n",
              "      <th></th>\n",
              "      <th>value</th>\n",
              "    </tr>\n",
              "    <tr>\n",
              "      <th>day</th>\n",
              "      <th></th>\n",
              "    </tr>\n",
              "  </thead>\n",
              "  <tbody>\n",
              "    <tr>\n",
              "      <th>01</th>\n",
              "      <td>0.019292</td>\n",
              "    </tr>\n",
              "    <tr>\n",
              "      <th>02</th>\n",
              "      <td>0.019182</td>\n",
              "    </tr>\n",
              "    <tr>\n",
              "      <th>03</th>\n",
              "      <td>0.013348</td>\n",
              "    </tr>\n",
              "    <tr>\n",
              "      <th>04</th>\n",
              "      <td>0.004565</td>\n",
              "    </tr>\n",
              "    <tr>\n",
              "      <th>06</th>\n",
              "      <td>0.021708</td>\n",
              "    </tr>\n",
              "  </tbody>\n",
              "</table>\n",
              "</div>"
            ],
            "text/plain": [
              "        value\n",
              "day          \n",
              "01   0.019292\n",
              "02   0.019182\n",
              "03   0.013348\n",
              "04   0.004565\n",
              "06   0.021708"
            ]
          },
          "metadata": {
            "tags": []
          },
          "execution_count": 75
        }
      ]
    },
    {
      "cell_type": "code",
      "metadata": {
        "id": "TdiqMUjj4raH",
        "colab_type": "code",
        "colab": {
          "base_uri": "https://localhost:8080/",
          "height": 584
        },
        "outputId": "52392c61-5856-4e52-83c0-e97e0d4bbff8"
      },
      "source": [
        "plt.plot(qo3.index, qo3['value'])\n",
        "plt.title('O3 en el mes de enero 2019')\n",
        "plt.ylabel('O3')\n",
        "plt.xlabel('Dia')\n",
        "plt.figure(figsize=(50,12))\n",
        "plt.show()"
      ],
      "execution_count": null,
      "outputs": [
        {
          "output_type": "display_data",
          "data": {
            "image/png": "[encoded data removed]",
            "text/plain": [
              "<Figure size 1152x648 with 1 Axes>"
            ]
          },
          "metadata": {
            "tags": [],
            "needs_background": "light"
          }
        },
        {
          "output_type": "display_data",
          "data": {
            "text/plain": [
              "<Figure size 3600x864 with 0 Axes>"
            ]
          },
          "metadata": {
            "tags": []
          }
        }
      ]
    }
  ]
}